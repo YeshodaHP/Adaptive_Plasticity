{
 "cells": [
  {
   "cell_type": "code",
   "execution_count": 1,
   "metadata": {},
   "outputs": [],
   "source": [
    "name_conversion <- function(gene_list){\n",
    "    conversion_file <- read.csv(\"../Reference_Files/Name_Conversion/Clean_conversion_file.txt\", sep = '\\t')[,c(1,8)]\n",
    "    #Replace the .t#.t# with nothing \n",
    "    conversion_file$`X.5.5` <- gsub(\".t\\\\d.?\\\\d?\", \"\", conversion_file$`X.5.5`)\n",
    "    conversion_file$`X5.3.1` <- gsub(\".t\\\\d.?\\\\d?\", \"\", conversion_file$`X5.3.1`)\n",
    "    \n",
    "    #predefine empty vector\n",
    "    translated <- character(length(gene_list))\n",
    "    \n",
    "    #do the loop\n",
    "    for (gene in 1:length(gene_list)) {\n",
    "        #since apparently now the file has multiple genes with the same name (previously different transcripts), \n",
    "        #some genes in 5.3 will have repeats in 5.5\n",
    "        #Just take the first one\n",
    "        \n",
    "        translated[gene] <- conversion_file[conversion_file$`X5.3.1` == gene_list[gene],]$`X.5.5`[1]\n",
    "    }\n",
    "    \n",
    "    #return the translated genes :)\n",
    "    return(translated)\n",
    "}"
   ]
  },
  {
   "cell_type": "code",
   "execution_count": 2,
   "metadata": {},
   "outputs": [],
   "source": [
    "Ensembl_name_conversion <- function(gene_list){\n",
    "    translated <- name_conversion(gene_list)\n",
    "    \n",
    "    #Ensembl genes look like: CHLRE_07g326200v5\n",
    "    #5.5 genes look like: Cre01.g001350\n",
    "    translated <- gsub(\"Cre\", \"CHLRE_\", translated)\n",
    "    translated <- gsub(\"\\\\.\", \"\", translated)\n",
    "    translated <- paste0(translated, 'v5')\n",
    "    \n",
    "    return(translated)\n",
    "}"
   ]
  }
 ],
 "metadata": {
  "kernelspec": {
   "display_name": "R",
   "language": "R",
   "name": "ir"
  },
  "language_info": {
   "codemirror_mode": "r",
   "file_extension": ".r",
   "mimetype": "text/x-r-source",
   "name": "R",
   "pygments_lexer": "r",
   "version": "4.0.3"
  },
  "toc": {
   "base_numbering": 1,
   "nav_menu": {},
   "number_sections": true,
   "sideBar": true,
   "skip_h1_title": false,
   "title_cell": "Table of Contents",
   "title_sidebar": "Contents",
   "toc_cell": false,
   "toc_position": {},
   "toc_section_display": true,
   "toc_window_display": false
  }
 },
 "nbformat": 4,
 "nbformat_minor": 5
}
