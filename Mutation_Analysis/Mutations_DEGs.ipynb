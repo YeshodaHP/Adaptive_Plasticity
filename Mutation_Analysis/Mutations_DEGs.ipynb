{
 "cells": [
  {
   "cell_type": "code",
   "execution_count": 1,
   "metadata": {},
   "outputs": [
    {
     "name": "stderr",
     "output_type": "stream",
     "text": [
      "\n",
      "Attaching package: ‘dplyr’\n",
      "\n",
      "\n",
      "The following objects are masked from ‘package:stats’:\n",
      "\n",
      "    filter, lag\n",
      "\n",
      "\n",
      "The following objects are masked from ‘package:base’:\n",
      "\n",
      "    intersect, setdiff, setequal, union\n",
      "\n",
      "\n",
      "Warning message:\n",
      "“package ‘reshape2’ was built under R version 4.0.5”\n"
     ]
    }
   ],
   "source": [
    "library(dplyr)\n",
    "library(ggplot2)\n",
    "library(reshape2)\n",
    "library(beepr)\n",
    "library(wesanderson)\n",
    "options(repr.plot.width=16, repr.plot.height=8) #make all the plots larger"
   ]
  },
  {
   "cell_type": "markdown",
   "metadata": {},
   "source": [
    "# Import Mutation Data"
   ]
  },
  {
   "cell_type": "code",
   "execution_count": 2,
   "metadata": {},
   "outputs": [
    {
     "data": {
      "text/html": [
       "<style>\n",
       ".list-inline {list-style: none; margin:0; padding: 0}\n",
       ".list-inline>li {display: inline-block}\n",
       ".list-inline>li:not(:last-child)::after {content: \"\\00b7\"; padding: 0 .5ex}\n",
       "</style>\n",
       "<ol class=list-inline><li>'S26'</li><li>'S30'</li><li>'S31'</li><li>'S21'</li><li>'S29'</li><li>'S25'</li><li>'2'</li><li>'S27'</li><li>'S24'</li><li>'S23'</li><li>'1'</li></ol>\n"
      ],
      "text/latex": [
       "\\begin{enumerate*}\n",
       "\\item 'S26'\n",
       "\\item 'S30'\n",
       "\\item 'S31'\n",
       "\\item 'S21'\n",
       "\\item 'S29'\n",
       "\\item 'S25'\n",
       "\\item '2'\n",
       "\\item 'S27'\n",
       "\\item 'S24'\n",
       "\\item 'S23'\n",
       "\\item '1'\n",
       "\\end{enumerate*}\n"
      ],
      "text/markdown": [
       "1. 'S26'\n",
       "2. 'S30'\n",
       "3. 'S31'\n",
       "4. 'S21'\n",
       "5. 'S29'\n",
       "6. 'S25'\n",
       "7. '2'\n",
       "8. 'S27'\n",
       "9. 'S24'\n",
       "10. 'S23'\n",
       "11. '1'\n",
       "\n",
       "\n"
      ],
      "text/plain": [
       " [1] \"S26\" \"S30\" \"S31\" \"S21\" \"S29\" \"S25\" \"2\"   \"S27\" \"S24\" \"S23\" \"1\"  "
      ]
     },
     "metadata": {},
     "output_type": "display_data"
    },
    {
     "data": {
      "text/html": [
       "<table class=\"dataframe\">\n",
       "<caption>A data.frame: 6 × 30</caption>\n",
       "<thead>\n",
       "\t<tr><th></th><th scope=col>Gene.primaryIdentifier</th><th scope=col>chromosome</th><th scope=col>position</th><th scope=col>mutation</th><th scope=col>type</th><th scope=col>mutant_sample</th><th scope=col>genic</th><th scope=col>exonic</th><th scope=col>intronic</th><th scope=col>intergenic</th><th scope=col>⋯</th><th scope=col>FPKM</th><th scope=col>Nonsyn_V_Syn</th><th scope=col>X</th><th scope=col>nessID</th><th scope=col>FPKM_per_transcript</th><th scope=col>cluster</th><th scope=col>expressed</th><th scope=col>expressed_genes</th><th scope=col>perrineau</th><th scope=col>perrineau_genes</th></tr>\n",
       "\t<tr><th></th><th scope=col>&lt;chr&gt;</th><th scope=col>&lt;chr&gt;</th><th scope=col>&lt;int&gt;</th><th scope=col>&lt;chr&gt;</th><th scope=col>&lt;chr&gt;</th><th scope=col>&lt;chr&gt;</th><th scope=col>&lt;int&gt;</th><th scope=col>&lt;int&gt;</th><th scope=col>&lt;int&gt;</th><th scope=col>&lt;int&gt;</th><th scope=col>⋯</th><th scope=col>&lt;chr&gt;</th><th scope=col>&lt;chr&gt;</th><th scope=col>&lt;int&gt;</th><th scope=col>&lt;int&gt;</th><th scope=col>&lt;dbl&gt;</th><th scope=col>&lt;chr&gt;</th><th scope=col>&lt;int&gt;</th><th scope=col>&lt;chr&gt;</th><th scope=col>&lt;int&gt;</th><th scope=col>&lt;chr&gt;</th></tr>\n",
       "</thead>\n",
       "<tbody>\n",
       "\t<tr><th scope=row>7</th><td>Cre01.g016350</td><td>chromosome_1 </td><td>2758843</td><td><span style=white-space:pre-wrap>C&gt;T                 </span></td><td><span style=white-space:pre-wrap>SNP  </span></td><td>S29</td><td>1</td><td>1</td><td>0</td><td>0</td><td>⋯</td><td>16.55518366</td><td><span style=white-space:pre-wrap>n/a          </span></td><td>276</td><td>26904181</td><td>16.555183</td><td>non-cluster</td><td>1</td><td>['26904181']</td><td>0</td><td><span style=white-space:pre-wrap>NA               </span></td></tr>\n",
       "\t<tr><th scope=row>16</th><td>Cre01.g051950</td><td>chromosome_1 </td><td>7223914</td><td><span style=white-space:pre-wrap>G&gt;A                 </span></td><td><span style=white-space:pre-wrap>SNP  </span></td><td>S29</td><td>1</td><td>0</td><td>1</td><td>0</td><td>⋯</td><td><span style=white-space:pre-wrap>.          </span></td><td><span style=white-space:pre-wrap>n/a          </span></td><td>264</td><td>26904006</td><td>15.804940</td><td>non-cluster</td><td>1</td><td>['26904006']</td><td>0</td><td><span style=white-space:pre-wrap>NA               </span></td></tr>\n",
       "\t<tr><th scope=row>23</th><td>Cre10.g440600</td><td>chromosome_10</td><td>2974075</td><td><span style=white-space:pre-wrap>C&gt;CA                </span></td><td>indel</td><td>S29</td><td>1</td><td>1</td><td>0</td><td>0</td><td>⋯</td><td>0.582091988</td><td><span style=white-space:pre-wrap>n/a          </span></td><td>296</td><td>26905366</td><td> 0.582092</td><td>non-cluster</td><td>0</td><td><span style=white-space:pre-wrap>NA          </span></td><td>0</td><td><span style=white-space:pre-wrap>NA               </span></td></tr>\n",
       "\t<tr><th scope=row>24</th><td>Cre10.g440600</td><td>chromosome_10</td><td>2974077</td><td>C&gt;CACACACAGCAGCTGGAG</td><td>indel</td><td>S29</td><td>1</td><td>1</td><td>0</td><td>0</td><td>⋯</td><td>0.582091988</td><td><span style=white-space:pre-wrap>n/a          </span></td><td>296</td><td>26905366</td><td> 0.582092</td><td><span style=white-space:pre-wrap>cluster    </span></td><td>0</td><td><span style=white-space:pre-wrap>NA          </span></td><td>0</td><td><span style=white-space:pre-wrap>NA               </span></td></tr>\n",
       "\t<tr><th scope=row>35</th><td>Cre12.g511750</td><td>chromosome_12</td><td>1845232</td><td><span style=white-space:pre-wrap>C&gt;A                 </span></td><td><span style=white-space:pre-wrap>SNP  </span></td><td>S29</td><td>1</td><td>1</td><td>0</td><td>0</td><td>⋯</td><td>9.107483053</td><td>nonsynonymous</td><td>314</td><td>26907398</td><td> 9.107483</td><td>non-cluster</td><td>1</td><td>['26907398']</td><td>1</td><td>['Cre12.g511750']</td></tr>\n",
       "\t<tr><th scope=row>50</th><td>Cre12.g554750</td><td>chromosome_12</td><td>7642263</td><td><span style=white-space:pre-wrap>G&gt;A                 </span></td><td><span style=white-space:pre-wrap>SNP  </span></td><td>S23</td><td>1</td><td>1</td><td>0</td><td>0</td><td>⋯</td><td>50.02293245</td><td><span style=white-space:pre-wrap>synonymous   </span></td><td>316</td><td>26907414</td><td>50.022934</td><td>non-cluster</td><td>1</td><td>['26907414']</td><td>1</td><td>['Cre12.g554750']</td></tr>\n",
       "</tbody>\n",
       "</table>\n"
      ],
      "text/latex": [
       "A data.frame: 6 × 30\n",
       "\\begin{tabular}{r|lllllllllllllllllllll}\n",
       "  & Gene.primaryIdentifier & chromosome & position & mutation & type & mutant\\_sample & genic & exonic & intronic & intergenic & ⋯ & FPKM & Nonsyn\\_V\\_Syn & X & nessID & FPKM\\_per\\_transcript & cluster & expressed & expressed\\_genes & perrineau & perrineau\\_genes\\\\\n",
       "  & <chr> & <chr> & <int> & <chr> & <chr> & <chr> & <int> & <int> & <int> & <int> & ⋯ & <chr> & <chr> & <int> & <int> & <dbl> & <chr> & <int> & <chr> & <int> & <chr>\\\\\n",
       "\\hline\n",
       "\t7 & Cre01.g016350 & chromosome\\_1  & 2758843 & C>T                  & SNP   & S29 & 1 & 1 & 0 & 0 & ⋯ & 16.55518366 & n/a           & 276 & 26904181 & 16.555183 & non-cluster & 1 & {[}'26904181'{]} & 0 & NA               \\\\\n",
       "\t16 & Cre01.g051950 & chromosome\\_1  & 7223914 & G>A                  & SNP   & S29 & 1 & 0 & 1 & 0 & ⋯ & .           & n/a           & 264 & 26904006 & 15.804940 & non-cluster & 1 & {[}'26904006'{]} & 0 & NA               \\\\\n",
       "\t23 & Cre10.g440600 & chromosome\\_10 & 2974075 & C>CA                 & indel & S29 & 1 & 1 & 0 & 0 & ⋯ & 0.582091988 & n/a           & 296 & 26905366 &  0.582092 & non-cluster & 0 & NA           & 0 & NA               \\\\\n",
       "\t24 & Cre10.g440600 & chromosome\\_10 & 2974077 & C>CACACACAGCAGCTGGAG & indel & S29 & 1 & 1 & 0 & 0 & ⋯ & 0.582091988 & n/a           & 296 & 26905366 &  0.582092 & cluster     & 0 & NA           & 0 & NA               \\\\\n",
       "\t35 & Cre12.g511750 & chromosome\\_12 & 1845232 & C>A                  & SNP   & S29 & 1 & 1 & 0 & 0 & ⋯ & 9.107483053 & nonsynonymous & 314 & 26907398 &  9.107483 & non-cluster & 1 & {[}'26907398'{]} & 1 & {[}'Cre12.g511750'{]}\\\\\n",
       "\t50 & Cre12.g554750 & chromosome\\_12 & 7642263 & G>A                  & SNP   & S23 & 1 & 1 & 0 & 0 & ⋯ & 50.02293245 & synonymous    & 316 & 26907414 & 50.022934 & non-cluster & 1 & {[}'26907414'{]} & 1 & {[}'Cre12.g554750'{]}\\\\\n",
       "\\end{tabular}\n"
      ],
      "text/markdown": [
       "\n",
       "A data.frame: 6 × 30\n",
       "\n",
       "| <!--/--> | Gene.primaryIdentifier &lt;chr&gt; | chromosome &lt;chr&gt; | position &lt;int&gt; | mutation &lt;chr&gt; | type &lt;chr&gt; | mutant_sample &lt;chr&gt; | genic &lt;int&gt; | exonic &lt;int&gt; | intronic &lt;int&gt; | intergenic &lt;int&gt; | ⋯ ⋯ | FPKM &lt;chr&gt; | Nonsyn_V_Syn &lt;chr&gt; | X &lt;int&gt; | nessID &lt;int&gt; | FPKM_per_transcript &lt;dbl&gt; | cluster &lt;chr&gt; | expressed &lt;int&gt; | expressed_genes &lt;chr&gt; | perrineau &lt;int&gt; | perrineau_genes &lt;chr&gt; |\n",
       "|---|---|---|---|---|---|---|---|---|---|---|---|---|---|---|---|---|---|---|---|---|---|\n",
       "| 7 | Cre01.g016350 | chromosome_1  | 2758843 | C&gt;T                  | SNP   | S29 | 1 | 1 | 0 | 0 | ⋯ | 16.55518366 | n/a           | 276 | 26904181 | 16.555183 | non-cluster | 1 | ['26904181'] | 0 | NA                |\n",
       "| 16 | Cre01.g051950 | chromosome_1  | 7223914 | G&gt;A                  | SNP   | S29 | 1 | 0 | 1 | 0 | ⋯ | .           | n/a           | 264 | 26904006 | 15.804940 | non-cluster | 1 | ['26904006'] | 0 | NA                |\n",
       "| 23 | Cre10.g440600 | chromosome_10 | 2974075 | C&gt;CA                 | indel | S29 | 1 | 1 | 0 | 0 | ⋯ | 0.582091988 | n/a           | 296 | 26905366 |  0.582092 | non-cluster | 0 | NA           | 0 | NA                |\n",
       "| 24 | Cre10.g440600 | chromosome_10 | 2974077 | C&gt;CACACACAGCAGCTGGAG | indel | S29 | 1 | 1 | 0 | 0 | ⋯ | 0.582091988 | n/a           | 296 | 26905366 |  0.582092 | cluster     | 0 | NA           | 0 | NA                |\n",
       "| 35 | Cre12.g511750 | chromosome_12 | 1845232 | C&gt;A                  | SNP   | S29 | 1 | 1 | 0 | 0 | ⋯ | 9.107483053 | nonsynonymous | 314 | 26907398 |  9.107483 | non-cluster | 1 | ['26907398'] | 1 | ['Cre12.g511750'] |\n",
       "| 50 | Cre12.g554750 | chromosome_12 | 7642263 | G&gt;A                  | SNP   | S23 | 1 | 1 | 0 | 0 | ⋯ | 50.02293245 | synonymous    | 316 | 26907414 | 50.022934 | non-cluster | 1 | ['26907414'] | 1 | ['Cre12.g554750'] |\n",
       "\n"
      ],
      "text/plain": [
       "   Gene.primaryIdentifier chromosome    position mutation             type \n",
       "7  Cre01.g016350          chromosome_1  2758843  C>T                  SNP  \n",
       "16 Cre01.g051950          chromosome_1  7223914  G>A                  SNP  \n",
       "23 Cre10.g440600          chromosome_10 2974075  C>CA                 indel\n",
       "24 Cre10.g440600          chromosome_10 2974077  C>CACACACAGCAGCTGGAG indel\n",
       "35 Cre12.g511750          chromosome_12 1845232  C>A                  SNP  \n",
       "50 Cre12.g554750          chromosome_12 7642263  G>A                  SNP  \n",
       "   mutant_sample genic exonic intronic intergenic ⋯ FPKM        Nonsyn_V_Syn \n",
       "7  S29           1     1      0        0          ⋯ 16.55518366 n/a          \n",
       "16 S29           1     0      1        0          ⋯ .           n/a          \n",
       "23 S29           1     1      0        0          ⋯ 0.582091988 n/a          \n",
       "24 S29           1     1      0        0          ⋯ 0.582091988 n/a          \n",
       "35 S29           1     1      0        0          ⋯ 9.107483053 nonsynonymous\n",
       "50 S23           1     1      0        0          ⋯ 50.02293245 synonymous   \n",
       "   X   nessID   FPKM_per_transcript cluster     expressed expressed_genes\n",
       "7  276 26904181 16.555183           non-cluster 1         ['26904181']   \n",
       "16 264 26904006 15.804940           non-cluster 1         ['26904006']   \n",
       "23 296 26905366  0.582092           non-cluster 0         NA             \n",
       "24 296 26905366  0.582092           cluster     0         NA             \n",
       "35 314 26907398  9.107483           non-cluster 1         ['26907398']   \n",
       "50 316 26907414 50.022934           non-cluster 1         ['26907414']   \n",
       "   perrineau perrineau_genes  \n",
       "7  0         NA               \n",
       "16 0         NA               \n",
       "23 0         NA               \n",
       "24 0         NA               \n",
       "35 1         ['Cre12.g511750']\n",
       "50 1         ['Cre12.g554750']"
      ]
     },
     "metadata": {},
     "output_type": "display_data"
    },
    {
     "data": {
      "text/html": [
       "<style>\n",
       ".list-inline {list-style: none; margin:0; padding: 0}\n",
       ".list-inline>li {display: inline-block}\n",
       ".list-inline>li:not(:last-child)::after {content: \"\\00b7\"; padding: 0 .5ex}\n",
       "</style>\n",
       "<ol class=list-inline><li>23</li><li>30</li></ol>\n"
      ],
      "text/latex": [
       "\\begin{enumerate*}\n",
       "\\item 23\n",
       "\\item 30\n",
       "\\end{enumerate*}\n"
      ],
      "text/markdown": [
       "1. 23\n",
       "2. 30\n",
       "\n",
       "\n"
      ],
      "text/plain": [
       "[1] 23 30"
      ]
     },
     "metadata": {},
     "output_type": "display_data"
    },
    {
     "data": {
      "text/html": [
       "17"
      ],
      "text/latex": [
       "17"
      ],
      "text/markdown": [
       "17"
      ],
      "text/plain": [
       "[1] 17"
      ]
     },
     "metadata": {},
     "output_type": "display_data"
    },
    {
     "data": {
      "text/html": [
       "<table class=\"dataframe\">\n",
       "<caption>A data.frame: 6 × 30</caption>\n",
       "<thead>\n",
       "\t<tr><th></th><th scope=col>Gene.primaryIdentifier</th><th scope=col>chromosome</th><th scope=col>position</th><th scope=col>mutation</th><th scope=col>type</th><th scope=col>mutant_sample</th><th scope=col>genic</th><th scope=col>exonic</th><th scope=col>intronic</th><th scope=col>intergenic</th><th scope=col>⋯</th><th scope=col>FPKM</th><th scope=col>Nonsyn_V_Syn</th><th scope=col>X</th><th scope=col>nessID</th><th scope=col>FPKM_per_transcript</th><th scope=col>cluster</th><th scope=col>expressed</th><th scope=col>expressed_genes</th><th scope=col>perrineau</th><th scope=col>perrineau_genes</th></tr>\n",
       "\t<tr><th></th><th scope=col>&lt;chr&gt;</th><th scope=col>&lt;chr&gt;</th><th scope=col>&lt;int&gt;</th><th scope=col>&lt;chr&gt;</th><th scope=col>&lt;chr&gt;</th><th scope=col>&lt;chr&gt;</th><th scope=col>&lt;int&gt;</th><th scope=col>&lt;int&gt;</th><th scope=col>&lt;int&gt;</th><th scope=col>&lt;int&gt;</th><th scope=col>⋯</th><th scope=col>&lt;chr&gt;</th><th scope=col>&lt;chr&gt;</th><th scope=col>&lt;int&gt;</th><th scope=col>&lt;int&gt;</th><th scope=col>&lt;dbl&gt;</th><th scope=col>&lt;chr&gt;</th><th scope=col>&lt;int&gt;</th><th scope=col>&lt;chr&gt;</th><th scope=col>&lt;int&gt;</th><th scope=col>&lt;chr&gt;</th></tr>\n",
       "</thead>\n",
       "<tbody>\n",
       "\t<tr><th scope=row>24</th><td>Cre10.g440600</td><td>chromosome_10</td><td>2974077</td><td>C&gt;CACACACAGCAGCTGGAG</td><td>indel</td><td>S29</td><td>1</td><td>1</td><td>0</td><td>0</td><td>⋯</td><td>0.582091988</td><td>n/a</td><td>296</td><td>26905366</td><td>0.582092</td><td><span style=white-space:pre-wrap>cluster    </span></td><td>0</td><td><span style=white-space:pre-wrap>NA          </span></td><td>0</td><td><span style=white-space:pre-wrap>NA               </span></td></tr>\n",
       "\t<tr><th scope=row>121</th><td><span style=white-space:pre-wrap>             </span></td><td>chromosome_2 </td><td>7696095</td><td><span style=white-space:pre-wrap>A&gt;AGGCTGTGGTG       </span></td><td>indel</td><td>S29</td><td>0</td><td>0</td><td>0</td><td>1</td><td>⋯</td><td><span style=white-space:pre-wrap>.          </span></td><td>n/a</td><td> NA</td><td><span style=white-space:pre-wrap>      NA</span></td><td><span style=white-space:pre-wrap>      NA</span></td><td>non-cluster</td><td>0</td><td><span style=white-space:pre-wrap>NA          </span></td><td>0</td><td><span style=white-space:pre-wrap>NA               </span></td></tr>\n",
       "\t<tr><th scope=row>146</th><td>Cre05.g245700</td><td>chromosome_5 </td><td>1145934</td><td><span style=white-space:pre-wrap>C&gt;T                 </span></td><td><span style=white-space:pre-wrap>SNP  </span></td><td>S29</td><td>1</td><td>1</td><td>0</td><td>0</td><td>⋯</td><td>9.842150935</td><td>n/a</td><td>123</td><td>26897974</td><td>9.842151</td><td><span style=white-space:pre-wrap>cluster    </span></td><td>1</td><td>['26897974']</td><td>1</td><td>['Cre05.g245700']</td></tr>\n",
       "\t<tr><th scope=row>147</th><td>Cre05.g245700</td><td>chromosome_5 </td><td>1145935</td><td><span style=white-space:pre-wrap>A&gt;C                 </span></td><td><span style=white-space:pre-wrap>SNP  </span></td><td>S29</td><td>1</td><td>1</td><td>0</td><td>0</td><td>⋯</td><td>9.842150935</td><td>n/a</td><td>123</td><td>26897974</td><td>9.842151</td><td><span style=white-space:pre-wrap>cluster    </span></td><td>1</td><td>['26897974']</td><td>1</td><td>['Cre05.g245700']</td></tr>\n",
       "\t<tr><th scope=row>190</th><td>Cre06.g292400</td><td>chromosome_6 </td><td>6423838</td><td><span style=white-space:pre-wrap>G&gt;GGGGCACTCC        </span></td><td>indel</td><td>S29</td><td>1</td><td>0</td><td>1</td><td>0</td><td>⋯</td><td><span style=white-space:pre-wrap>.          </span></td><td>n/a</td><td> 37</td><td>26893158</td><td>6.366075</td><td>non-cluster</td><td>1</td><td>['26893158']</td><td>0</td><td><span style=white-space:pre-wrap>NA               </span></td></tr>\n",
       "\t<tr><th scope=row>226</th><td><span style=white-space:pre-wrap>             </span></td><td>chromosome_9 </td><td>3485483</td><td><span style=white-space:pre-wrap>G&gt;T                 </span></td><td><span style=white-space:pre-wrap>SNP  </span></td><td>S23</td><td>0</td><td>0</td><td>0</td><td>1</td><td>⋯</td><td><span style=white-space:pre-wrap>.          </span></td><td>n/a</td><td> NA</td><td><span style=white-space:pre-wrap>      NA</span></td><td><span style=white-space:pre-wrap>      NA</span></td><td>non-cluster</td><td>0</td><td><span style=white-space:pre-wrap>NA          </span></td><td>0</td><td><span style=white-space:pre-wrap>NA               </span></td></tr>\n",
       "</tbody>\n",
       "</table>\n"
      ],
      "text/latex": [
       "A data.frame: 6 × 30\n",
       "\\begin{tabular}{r|lllllllllllllllllllll}\n",
       "  & Gene.primaryIdentifier & chromosome & position & mutation & type & mutant\\_sample & genic & exonic & intronic & intergenic & ⋯ & FPKM & Nonsyn\\_V\\_Syn & X & nessID & FPKM\\_per\\_transcript & cluster & expressed & expressed\\_genes & perrineau & perrineau\\_genes\\\\\n",
       "  & <chr> & <chr> & <int> & <chr> & <chr> & <chr> & <int> & <int> & <int> & <int> & ⋯ & <chr> & <chr> & <int> & <int> & <dbl> & <chr> & <int> & <chr> & <int> & <chr>\\\\\n",
       "\\hline\n",
       "\t24 & Cre10.g440600 & chromosome\\_10 & 2974077 & C>CACACACAGCAGCTGGAG & indel & S29 & 1 & 1 & 0 & 0 & ⋯ & 0.582091988 & n/a & 296 & 26905366 & 0.582092 & cluster     & 0 & NA           & 0 & NA               \\\\\n",
       "\t121 &               & chromosome\\_2  & 7696095 & A>AGGCTGTGGTG        & indel & S29 & 0 & 0 & 0 & 1 & ⋯ & .           & n/a &  NA &       NA &       NA & non-cluster & 0 & NA           & 0 & NA               \\\\\n",
       "\t146 & Cre05.g245700 & chromosome\\_5  & 1145934 & C>T                  & SNP   & S29 & 1 & 1 & 0 & 0 & ⋯ & 9.842150935 & n/a & 123 & 26897974 & 9.842151 & cluster     & 1 & {[}'26897974'{]} & 1 & {[}'Cre05.g245700'{]}\\\\\n",
       "\t147 & Cre05.g245700 & chromosome\\_5  & 1145935 & A>C                  & SNP   & S29 & 1 & 1 & 0 & 0 & ⋯ & 9.842150935 & n/a & 123 & 26897974 & 9.842151 & cluster     & 1 & {[}'26897974'{]} & 1 & {[}'Cre05.g245700'{]}\\\\\n",
       "\t190 & Cre06.g292400 & chromosome\\_6  & 6423838 & G>GGGGCACTCC         & indel & S29 & 1 & 0 & 1 & 0 & ⋯ & .           & n/a &  37 & 26893158 & 6.366075 & non-cluster & 1 & {[}'26893158'{]} & 0 & NA               \\\\\n",
       "\t226 &               & chromosome\\_9  & 3485483 & G>T                  & SNP   & S23 & 0 & 0 & 0 & 1 & ⋯ & .           & n/a &  NA &       NA &       NA & non-cluster & 0 & NA           & 0 & NA               \\\\\n",
       "\\end{tabular}\n"
      ],
      "text/markdown": [
       "\n",
       "A data.frame: 6 × 30\n",
       "\n",
       "| <!--/--> | Gene.primaryIdentifier &lt;chr&gt; | chromosome &lt;chr&gt; | position &lt;int&gt; | mutation &lt;chr&gt; | type &lt;chr&gt; | mutant_sample &lt;chr&gt; | genic &lt;int&gt; | exonic &lt;int&gt; | intronic &lt;int&gt; | intergenic &lt;int&gt; | ⋯ ⋯ | FPKM &lt;chr&gt; | Nonsyn_V_Syn &lt;chr&gt; | X &lt;int&gt; | nessID &lt;int&gt; | FPKM_per_transcript &lt;dbl&gt; | cluster &lt;chr&gt; | expressed &lt;int&gt; | expressed_genes &lt;chr&gt; | perrineau &lt;int&gt; | perrineau_genes &lt;chr&gt; |\n",
       "|---|---|---|---|---|---|---|---|---|---|---|---|---|---|---|---|---|---|---|---|---|---|\n",
       "| 24 | Cre10.g440600 | chromosome_10 | 2974077 | C&gt;CACACACAGCAGCTGGAG | indel | S29 | 1 | 1 | 0 | 0 | ⋯ | 0.582091988 | n/a | 296 | 26905366 | 0.582092 | cluster     | 0 | NA           | 0 | NA                |\n",
       "| 121 | <!----> | chromosome_2  | 7696095 | A&gt;AGGCTGTGGTG        | indel | S29 | 0 | 0 | 0 | 1 | ⋯ | .           | n/a |  NA |       NA |       NA | non-cluster | 0 | NA           | 0 | NA                |\n",
       "| 146 | Cre05.g245700 | chromosome_5  | 1145934 | C&gt;T                  | SNP   | S29 | 1 | 1 | 0 | 0 | ⋯ | 9.842150935 | n/a | 123 | 26897974 | 9.842151 | cluster     | 1 | ['26897974'] | 1 | ['Cre05.g245700'] |\n",
       "| 147 | Cre05.g245700 | chromosome_5  | 1145935 | A&gt;C                  | SNP   | S29 | 1 | 1 | 0 | 0 | ⋯ | 9.842150935 | n/a | 123 | 26897974 | 9.842151 | cluster     | 1 | ['26897974'] | 1 | ['Cre05.g245700'] |\n",
       "| 190 | Cre06.g292400 | chromosome_6  | 6423838 | G&gt;GGGGCACTCC         | indel | S29 | 1 | 0 | 1 | 0 | ⋯ | .           | n/a |  37 | 26893158 | 6.366075 | non-cluster | 1 | ['26893158'] | 0 | NA                |\n",
       "| 226 | <!----> | chromosome_9  | 3485483 | G&gt;T                  | SNP   | S23 | 0 | 0 | 0 | 1 | ⋯ | .           | n/a |  NA |       NA |       NA | non-cluster | 0 | NA           | 0 | NA                |\n",
       "\n"
      ],
      "text/plain": [
       "    Gene.primaryIdentifier chromosome    position mutation             type \n",
       "24  Cre10.g440600          chromosome_10 2974077  C>CACACACAGCAGCTGGAG indel\n",
       "121                        chromosome_2  7696095  A>AGGCTGTGGTG        indel\n",
       "146 Cre05.g245700          chromosome_5  1145934  C>T                  SNP  \n",
       "147 Cre05.g245700          chromosome_5  1145935  A>C                  SNP  \n",
       "190 Cre06.g292400          chromosome_6  6423838  G>GGGGCACTCC         indel\n",
       "226                        chromosome_9  3485483  G>T                  SNP  \n",
       "    mutant_sample genic exonic intronic intergenic ⋯ FPKM        Nonsyn_V_Syn\n",
       "24  S29           1     1      0        0          ⋯ 0.582091988 n/a         \n",
       "121 S29           0     0      0        1          ⋯ .           n/a         \n",
       "146 S29           1     1      0        0          ⋯ 9.842150935 n/a         \n",
       "147 S29           1     1      0        0          ⋯ 9.842150935 n/a         \n",
       "190 S29           1     0      1        0          ⋯ .           n/a         \n",
       "226 S23           0     0      0        1          ⋯ .           n/a         \n",
       "    X   nessID   FPKM_per_transcript cluster     expressed expressed_genes\n",
       "24  296 26905366 0.582092            cluster     0         NA             \n",
       "121  NA       NA       NA            non-cluster 0         NA             \n",
       "146 123 26897974 9.842151            cluster     1         ['26897974']   \n",
       "147 123 26897974 9.842151            cluster     1         ['26897974']   \n",
       "190  37 26893158 6.366075            non-cluster 1         ['26893158']   \n",
       "226  NA       NA       NA            non-cluster 0         NA             \n",
       "    perrineau perrineau_genes  \n",
       "24  0         NA               \n",
       "121 0         NA               \n",
       "146 1         ['Cre05.g245700']\n",
       "147 1         ['Cre05.g245700']\n",
       "190 0         NA               \n",
       "226 0         NA               "
      ]
     },
     "metadata": {},
     "output_type": "display_data"
    }
   ],
   "source": [
    "mutation_data_raw <- read.csv(\"../References/Mutation_DEG_Files/adaptation.gene_sets.filtered.tsv\", header = TRUE, sep = \"\\t\")\n",
    "mutation_data_raw$mutant_sample <- substr(mutation_data_raw$mutant_sample, 3, 5)\n",
    "unique(mutation_data_raw$mutant_sample)\n",
    "mutation_data_raw <- mutation_data_raw[mutation_data_raw$mutant_sample == \"S29\" | mutation_data_raw$mutant_sample == \"S23\",]\n",
    "head(mutation_data_raw)\n",
    "dim(mutation_data_raw)\n",
    "length(unique(mutation_data_raw$Gene.primaryIdentifier))\n",
    "mutation_data_raw[duplicated(mutation_data_raw$Gene.primaryIdentifier),]"
   ]
  },
  {
   "cell_type": "markdown",
   "metadata": {},
   "source": [
    "# DEG Data"
   ]
  },
  {
   "cell_type": "markdown",
   "metadata": {},
   "source": [
    "## S0 -> S36 Condition"
   ]
  },
  {
   "cell_type": "code",
   "execution_count": 3,
   "metadata": {},
   "outputs": [
    {
     "data": {
      "text/html": [
       "<table class=\"dataframe\">\n",
       "<caption>A data.frame: 6 × 4</caption>\n",
       "<thead>\n",
       "\t<tr><th></th><th scope=col>Genes</th><th scope=col>LFC</th><th scope=col>padj</th><th scope=col>DE</th></tr>\n",
       "\t<tr><th></th><th scope=col>&lt;chr&gt;</th><th scope=col>&lt;dbl&gt;</th><th scope=col>&lt;dbl&gt;</th><th scope=col>&lt;lgl&gt;</th></tr>\n",
       "</thead>\n",
       "<tbody>\n",
       "\t<tr><th scope=row>1</th><td>ADF43161.1</td><td>-5.077702</td><td>3.813936e-28</td><td>TRUE</td></tr>\n",
       "\t<tr><th scope=row>2</th><td>ADF43181.1</td><td> 2.002053</td><td>1.440694e-12</td><td>TRUE</td></tr>\n",
       "\t<tr><th scope=row>3</th><td>ADF43182.1</td><td> 3.078671</td><td>2.835861e-07</td><td>TRUE</td></tr>\n",
       "\t<tr><th scope=row>4</th><td>ADF43190.1</td><td>-2.202580</td><td>1.252872e-44</td><td>TRUE</td></tr>\n",
       "\t<tr><th scope=row>5</th><td>ADF43193.1</td><td>-3.213678</td><td>1.196615e-35</td><td>TRUE</td></tr>\n",
       "\t<tr><th scope=row>6</th><td>ADF43199.1</td><td>-2.919341</td><td>9.726000e-03</td><td>TRUE</td></tr>\n",
       "</tbody>\n",
       "</table>\n"
      ],
      "text/latex": [
       "A data.frame: 6 × 4\n",
       "\\begin{tabular}{r|llll}\n",
       "  & Genes & LFC & padj & DE\\\\\n",
       "  & <chr> & <dbl> & <dbl> & <lgl>\\\\\n",
       "\\hline\n",
       "\t1 & ADF43161.1 & -5.077702 & 3.813936e-28 & TRUE\\\\\n",
       "\t2 & ADF43181.1 &  2.002053 & 1.440694e-12 & TRUE\\\\\n",
       "\t3 & ADF43182.1 &  3.078671 & 2.835861e-07 & TRUE\\\\\n",
       "\t4 & ADF43190.1 & -2.202580 & 1.252872e-44 & TRUE\\\\\n",
       "\t5 & ADF43193.1 & -3.213678 & 1.196615e-35 & TRUE\\\\\n",
       "\t6 & ADF43199.1 & -2.919341 & 9.726000e-03 & TRUE\\\\\n",
       "\\end{tabular}\n"
      ],
      "text/markdown": [
       "\n",
       "A data.frame: 6 × 4\n",
       "\n",
       "| <!--/--> | Genes &lt;chr&gt; | LFC &lt;dbl&gt; | padj &lt;dbl&gt; | DE &lt;lgl&gt; |\n",
       "|---|---|---|---|---|\n",
       "| 1 | ADF43161.1 | -5.077702 | 3.813936e-28 | TRUE |\n",
       "| 2 | ADF43181.1 |  2.002053 | 1.440694e-12 | TRUE |\n",
       "| 3 | ADF43182.1 |  3.078671 | 2.835861e-07 | TRUE |\n",
       "| 4 | ADF43190.1 | -2.202580 | 1.252872e-44 | TRUE |\n",
       "| 5 | ADF43193.1 | -3.213678 | 1.196615e-35 | TRUE |\n",
       "| 6 | ADF43199.1 | -2.919341 | 9.726000e-03 | TRUE |\n",
       "\n"
      ],
      "text/plain": [
       "  Genes      LFC       padj         DE  \n",
       "1 ADF43161.1 -5.077702 3.813936e-28 TRUE\n",
       "2 ADF43181.1  2.002053 1.440694e-12 TRUE\n",
       "3 ADF43182.1  3.078671 2.835861e-07 TRUE\n",
       "4 ADF43190.1 -2.202580 1.252872e-44 TRUE\n",
       "5 ADF43193.1 -3.213678 1.196615e-35 TRUE\n",
       "6 ADF43199.1 -2.919341 9.726000e-03 TRUE"
      ]
     },
     "metadata": {},
     "output_type": "display_data"
    },
    {
     "data": {
      "text/html": [
       "<style>\n",
       ".list-inline {list-style: none; margin:0; padding: 0}\n",
       ".list-inline>li {display: inline-block}\n",
       ".list-inline>li:not(:last-child)::after {content: \"\\00b7\"; padding: 0 .5ex}\n",
       "</style>\n",
       "<ol class=list-inline><li>1500</li><li>4</li></ol>\n"
      ],
      "text/latex": [
       "\\begin{enumerate*}\n",
       "\\item 1500\n",
       "\\item 4\n",
       "\\end{enumerate*}\n"
      ],
      "text/markdown": [
       "1. 1500\n",
       "2. 4\n",
       "\n",
       "\n"
      ],
      "text/plain": [
       "[1] 1500    4"
      ]
     },
     "metadata": {},
     "output_type": "display_data"
    }
   ],
   "source": [
    "S0_S36_DEGs <- read.csv(\"../References/Mutation_DEG_Files/DEGs/S0_S36_All\", header = TRUE)\n",
    "names(S0_S36_DEGs)[names(S0_S36_DEGs) == 'X'] <- \"Genes\"\n",
    "head(S0_S36_DEGs)\n",
    "dim(S0_S36_DEGs)\n",
    "S0_S36_DEGs_names <- S0_S36_DEGs$Genes"
   ]
  },
  {
   "cell_type": "markdown",
   "metadata": {},
   "source": [
    "# Distance Between mutations and DEGs Gene Edges"
   ]
  },
  {
   "cell_type": "markdown",
   "metadata": {},
   "source": [
    "## Find the location of the DEGs and Genes"
   ]
  },
  {
   "cell_type": "code",
   "execution_count": 4,
   "metadata": {},
   "outputs": [
    {
     "data": {
      "text/html": [
       "<table class=\"dataframe\">\n",
       "<caption>A data.frame: 6 × 5</caption>\n",
       "<thead>\n",
       "\t<tr><th></th><th scope=col>Chromosome</th><th scope=col>Classification</th><th scope=col>Start</th><th scope=col>End</th><th scope=col>Name</th></tr>\n",
       "\t<tr><th></th><th scope=col>&lt;dbl&gt;</th><th scope=col>&lt;chr&gt;</th><th scope=col>&lt;dbl&gt;</th><th scope=col>&lt;dbl&gt;</th><th scope=col>&lt;chr&gt;</th></tr>\n",
       "</thead>\n",
       "<tbody>\n",
       "\t<tr><th scope=row>1</th><td>1</td><td>gene</td><td>18766</td><td>20237</td><td>g2           </td></tr>\n",
       "\t<tr><th scope=row>9</th><td>1</td><td>gene</td><td>20356</td><td>23957</td><td>g3           </td></tr>\n",
       "\t<tr><th scope=row>31</th><td>1</td><td>gene</td><td>24026</td><td>30617</td><td>Cre01.g000050</td></tr>\n",
       "\t<tr><th scope=row>44</th><td>1</td><td>gene</td><td>30776</td><td>41037</td><td>Cre01.g000100</td></tr>\n",
       "\t<tr><th scope=row>74</th><td>1</td><td>gene</td><td>41896</td><td>46547</td><td>Cre01.g000150</td></tr>\n",
       "\t<tr><th scope=row>89</th><td>1</td><td>gene</td><td>46553</td><td>51525</td><td>Cre01.g000200</td></tr>\n",
       "</tbody>\n",
       "</table>\n"
      ],
      "text/latex": [
       "A data.frame: 6 × 5\n",
       "\\begin{tabular}{r|lllll}\n",
       "  & Chromosome & Classification & Start & End & Name\\\\\n",
       "  & <dbl> & <chr> & <dbl> & <dbl> & <chr>\\\\\n",
       "\\hline\n",
       "\t1 & 1 & gene & 18766 & 20237 & g2           \\\\\n",
       "\t9 & 1 & gene & 20356 & 23957 & g3           \\\\\n",
       "\t31 & 1 & gene & 24026 & 30617 & Cre01.g000050\\\\\n",
       "\t44 & 1 & gene & 30776 & 41037 & Cre01.g000100\\\\\n",
       "\t74 & 1 & gene & 41896 & 46547 & Cre01.g000150\\\\\n",
       "\t89 & 1 & gene & 46553 & 51525 & Cre01.g000200\\\\\n",
       "\\end{tabular}\n"
      ],
      "text/markdown": [
       "\n",
       "A data.frame: 6 × 5\n",
       "\n",
       "| <!--/--> | Chromosome &lt;dbl&gt; | Classification &lt;chr&gt; | Start &lt;dbl&gt; | End &lt;dbl&gt; | Name &lt;chr&gt; |\n",
       "|---|---|---|---|---|---|\n",
       "| 1 | 1 | gene | 18766 | 20237 | g2            |\n",
       "| 9 | 1 | gene | 20356 | 23957 | g3            |\n",
       "| 31 | 1 | gene | 24026 | 30617 | Cre01.g000050 |\n",
       "| 44 | 1 | gene | 30776 | 41037 | Cre01.g000100 |\n",
       "| 74 | 1 | gene | 41896 | 46547 | Cre01.g000150 |\n",
       "| 89 | 1 | gene | 46553 | 51525 | Cre01.g000200 |\n",
       "\n"
      ],
      "text/plain": [
       "   Chromosome Classification Start End   Name         \n",
       "1  1          gene           18766 20237 g2           \n",
       "9  1          gene           20356 23957 g3           \n",
       "31 1          gene           24026 30617 Cre01.g000050\n",
       "44 1          gene           30776 41037 Cre01.g000100\n",
       "74 1          gene           41896 46547 Cre01.g000150\n",
       "89 1          gene           46553 51525 Cre01.g000200"
      ]
     },
     "metadata": {},
     "output_type": "display_data"
    },
    {
     "data": {
      "text/html": [
       "<style>\n",
       ".list-inline {list-style: none; margin:0; padding: 0}\n",
       ".list-inline>li {display: inline-block}\n",
       ".list-inline>li:not(:last-child)::after {content: \"\\00b7\"; padding: 0 .5ex}\n",
       "</style>\n",
       "<ol class=list-inline><li>18773</li><li>5</li></ol>\n"
      ],
      "text/latex": [
       "\\begin{enumerate*}\n",
       "\\item 18773\n",
       "\\item 5\n",
       "\\end{enumerate*}\n"
      ],
      "text/markdown": [
       "1. 18773\n",
       "2. 5\n",
       "\n",
       "\n"
      ],
      "text/plain": [
       "[1] 18773     5"
      ]
     },
     "metadata": {},
     "output_type": "display_data"
    }
   ],
   "source": [
    "#Import the data\n",
    "gene_positions <- read.csv(\"final.strict.GFF3\", header = FALSE, sep = \"\\t\")[, c(1, 3:5, 10)]\n",
    "colnames(gene_positions) <- c(\"Chromosome\", \"Classification\", \"Start\", \"End\", \"Name\")\n",
    "\n",
    "#Remove everything but genes\n",
    "gene_positions <- gene_positions[grepl(\"gene\", gene_positions$Classification),] #Still includes cp and mt genes\n",
    "gene_positions <- gene_positions[grepl(\"_\\\\d+\", gene_positions$Chromosome),] #get just chromosomes\n",
    "#unique(gene_positions$Classification)\n",
    "\n",
    "#Remove the word \"chromosome\" and \"scaffold\" to just get the number\n",
    "gene_positions$Chromosome <- gsub(\"chromosome_\", \"\", gene_positions$Chromosome)\n",
    "gene_positions$Chromosome <- gsub(\"scaffold_\", \"\", gene_positions$Chromosome)\n",
    "gene_positions$Chromosome <- as.numeric(gene_positions$Chromosome)\n",
    "# unique(gene_positions$Chromosome)\n",
    "\n",
    "#Remove the word \"Name=\" to just get the gene name only \n",
    "gene_positions$Name <- gsub(\"Name=\", \"\", as.character(gene_positions$Name))\n",
    "#unique(gene_positions$Name)\n",
    "\n",
    "gene_positions$Start <- as.numeric(gene_positions$Start)\n",
    "#sum(is.na(gene_positions$Start))\n",
    "gene_positions$End <- as.numeric(gene_positions$End)\n",
    "\n",
    "head(gene_positions)\n",
    "dim(gene_positions)"
   ]
  },
  {
   "cell_type": "code",
   "execution_count": 5,
   "metadata": {},
   "outputs": [
    {
     "data": {
      "text/html": [
       "1500"
      ],
      "text/latex": [
       "1500"
      ],
      "text/markdown": [
       "1500"
      ],
      "text/plain": [
       "[1] 1500"
      ]
     },
     "metadata": {},
     "output_type": "display_data"
    },
    {
     "data": {
      "text/html": [
       "<style>\n",
       ".list-inline {list-style: none; margin:0; padding: 0}\n",
       ".list-inline>li {display: inline-block}\n",
       ".list-inline>li:not(:last-child)::after {content: \"\\00b7\"; padding: 0 .5ex}\n",
       "</style>\n",
       "<ol class=list-inline><li>2968</li><li>3</li></ol>\n"
      ],
      "text/latex": [
       "\\begin{enumerate*}\n",
       "\\item 2968\n",
       "\\item 3\n",
       "\\end{enumerate*}\n"
      ],
      "text/markdown": [
       "1. 2968\n",
       "2. 3\n",
       "\n",
       "\n"
      ],
      "text/plain": [
       "[1] 2968    3"
      ]
     },
     "metadata": {},
     "output_type": "display_data"
    },
    {
     "data": {
      "text/html": [
       "<table class=\"dataframe\">\n",
       "<caption>A data.frame: 6 × 3</caption>\n",
       "<thead>\n",
       "\t<tr><th></th><th scope=col>genes</th><th scope=col>edge</th><th scope=col>gene_position</th></tr>\n",
       "\t<tr><th></th><th scope=col>&lt;chr&gt;</th><th scope=col>&lt;fct&gt;</th><th scope=col>&lt;dbl&gt;</th></tr>\n",
       "</thead>\n",
       "<tbody>\n",
       "\t<tr><th scope=row>1</th><td>g3           </td><td>Start</td><td>1000020356</td></tr>\n",
       "\t<tr><th scope=row>2</th><td>Cre01.g000150</td><td>Start</td><td>1000041896</td></tr>\n",
       "\t<tr><th scope=row>3</th><td>g28          </td><td>Start</td><td>1000166882</td></tr>\n",
       "\t<tr><th scope=row>4</th><td>Cre01.g002650</td><td>Start</td><td>1000456376</td></tr>\n",
       "\t<tr><th scope=row>5</th><td>Cre01.g003000</td><td>Start</td><td>1000533296</td></tr>\n",
       "\t<tr><th scope=row>6</th><td>Cre01.g003200</td><td>Start</td><td>1000559606</td></tr>\n",
       "</tbody>\n",
       "</table>\n"
      ],
      "text/latex": [
       "A data.frame: 6 × 3\n",
       "\\begin{tabular}{r|lll}\n",
       "  & genes & edge & gene\\_position\\\\\n",
       "  & <chr> & <fct> & <dbl>\\\\\n",
       "\\hline\n",
       "\t1 & g3            & Start & 1000020356\\\\\n",
       "\t2 & Cre01.g000150 & Start & 1000041896\\\\\n",
       "\t3 & g28           & Start & 1000166882\\\\\n",
       "\t4 & Cre01.g002650 & Start & 1000456376\\\\\n",
       "\t5 & Cre01.g003000 & Start & 1000533296\\\\\n",
       "\t6 & Cre01.g003200 & Start & 1000559606\\\\\n",
       "\\end{tabular}\n"
      ],
      "text/markdown": [
       "\n",
       "A data.frame: 6 × 3\n",
       "\n",
       "| <!--/--> | genes &lt;chr&gt; | edge &lt;fct&gt; | gene_position &lt;dbl&gt; |\n",
       "|---|---|---|---|\n",
       "| 1 | g3            | Start | 1000020356 |\n",
       "| 2 | Cre01.g000150 | Start | 1000041896 |\n",
       "| 3 | g28           | Start | 1000166882 |\n",
       "| 4 | Cre01.g002650 | Start | 1000456376 |\n",
       "| 5 | Cre01.g003000 | Start | 1000533296 |\n",
       "| 6 | Cre01.g003200 | Start | 1000559606 |\n",
       "\n"
      ],
      "text/plain": [
       "  genes         edge  gene_position\n",
       "1 g3            Start 1000020356   \n",
       "2 Cre01.g000150 Start 1000041896   \n",
       "3 g28           Start 1000166882   \n",
       "4 Cre01.g002650 Start 1000456376   \n",
       "5 Cre01.g003000 Start 1000533296   \n",
       "6 Cre01.g003200 Start 1000559606   "
      ]
     },
     "metadata": {},
     "output_type": "display_data"
    },
    {
     "data": {
      "text/html": [
       "16"
      ],
      "text/latex": [
       "16"
      ],
      "text/markdown": [
       "16"
      ],
      "text/plain": [
       "[1] 16"
      ]
     },
     "metadata": {},
     "output_type": "display_data"
    },
    {
     "data": {
      "text/html": [
       "<style>\n",
       ".list-inline {list-style: none; margin:0; padding: 0}\n",
       ".list-inline>li {display: inline-block}\n",
       ".list-inline>li:not(:last-child)::after {content: \"\\00b7\"; padding: 0 .5ex}\n",
       "</style>\n",
       "<ol class=list-inline><li>'ADF43161.1'</li><li>'ADF43181.1'</li><li>'ADF43182.1'</li><li>'ADF43190.1'</li><li>'ADF43193.1'</li><li>'ADF43199.1'</li><li>'ChreCp032'</li><li>'ChreCp035'</li><li>'ChreCp036'</li><li>'ChreCp037'</li><li>'ChreCp039'</li><li>'ChreCp048'</li><li>'ChreCp052'</li><li>'ChreCp056'</li><li>'ChreCp062'</li><li>'ChreCp069'</li></ol>\n"
      ],
      "text/latex": [
       "\\begin{enumerate*}\n",
       "\\item 'ADF43161.1'\n",
       "\\item 'ADF43181.1'\n",
       "\\item 'ADF43182.1'\n",
       "\\item 'ADF43190.1'\n",
       "\\item 'ADF43193.1'\n",
       "\\item 'ADF43199.1'\n",
       "\\item 'ChreCp032'\n",
       "\\item 'ChreCp035'\n",
       "\\item 'ChreCp036'\n",
       "\\item 'ChreCp037'\n",
       "\\item 'ChreCp039'\n",
       "\\item 'ChreCp048'\n",
       "\\item 'ChreCp052'\n",
       "\\item 'ChreCp056'\n",
       "\\item 'ChreCp062'\n",
       "\\item 'ChreCp069'\n",
       "\\end{enumerate*}\n"
      ],
      "text/markdown": [
       "1. 'ADF43161.1'\n",
       "2. 'ADF43181.1'\n",
       "3. 'ADF43182.1'\n",
       "4. 'ADF43190.1'\n",
       "5. 'ADF43193.1'\n",
       "6. 'ADF43199.1'\n",
       "7. 'ChreCp032'\n",
       "8. 'ChreCp035'\n",
       "9. 'ChreCp036'\n",
       "10. 'ChreCp037'\n",
       "11. 'ChreCp039'\n",
       "12. 'ChreCp048'\n",
       "13. 'ChreCp052'\n",
       "14. 'ChreCp056'\n",
       "15. 'ChreCp062'\n",
       "16. 'ChreCp069'\n",
       "\n",
       "\n"
      ],
      "text/plain": [
       " [1] \"ADF43161.1\" \"ADF43181.1\" \"ADF43182.1\" \"ADF43190.1\" \"ADF43193.1\"\n",
       " [6] \"ADF43199.1\" \"ChreCp032\"  \"ChreCp035\"  \"ChreCp036\"  \"ChreCp037\" \n",
       "[11] \"ChreCp039\"  \"ChreCp048\"  \"ChreCp052\"  \"ChreCp056\"  \"ChreCp062\" \n",
       "[16] \"ChreCp069\" "
      ]
     },
     "metadata": {},
     "output_type": "display_data"
    },
    {
     "data": {
      "text/html": [
       "1484"
      ],
      "text/latex": [
       "1484"
      ],
      "text/markdown": [
       "1484"
      ],
      "text/plain": [
       "[1] 1484"
      ]
     },
     "metadata": {},
     "output_type": "display_data"
    }
   ],
   "source": [
    "#How many DEGs were there? Use this in case want to change the list of DEGs can do that without changing all the code\n",
    "DEG_name_list<- S0_S36_DEGs_names\n",
    "length(DEG_name_list)\n",
    "\n",
    "#Get the positions for the DEGs\n",
    "DEG_positions <- gene_positions[gene_positions$Name %in% DEG_name_list,]\n",
    "# dim(DEG_positions)\n",
    "#head(DEG_positions)\n",
    "\n",
    "separator = 1000000000\n",
    "DEG_positions <- DEG_positions %>%\n",
    "    mutate(Start = Start + (separator * as.numeric(Chromosome))) %>%\n",
    "    mutate(End = End + (separator * as.numeric(Chromosome))) %>%\n",
    "    select(Name, Start, End) %>%\n",
    "    melt(id.vars = \"Name\", variable.name = \"edge\", value.name = \"gene_position\")\n",
    "\n",
    "names(DEG_positions)[names(DEG_positions) == 'Name'] <- \"genes\"\n",
    "dim(DEG_positions)\n",
    "head(DEG_positions)\n",
    "\n",
    "#Missing genes are the ones that are in the chloroplasts or ribosomes\n",
    "length(DEG_name_list[!(DEG_name_list %in% DEG_positions$genes)])\n",
    "DEG_name_list[!(DEG_name_list %in% DEG_positions$genes)]\n",
    "\n",
    "size = dim(DEG_positions)[1]/2 #since we doubled the list because of the melting but there are still only 1484 DEGs\n",
    "size"
   ]
  },
  {
   "cell_type": "markdown",
   "metadata": {},
   "source": [
    "## Get the location of the Mutations"
   ]
  },
  {
   "cell_type": "code",
   "execution_count": 6,
   "metadata": {},
   "outputs": [
    {
     "data": {
      "text/html": [
       "<table class=\"dataframe\">\n",
       "<caption>A data.frame: 6 × 2</caption>\n",
       "<thead>\n",
       "\t<tr><th></th><th scope=col>mutation</th><th scope=col>mutation_position</th></tr>\n",
       "\t<tr><th></th><th scope=col>&lt;chr&gt;</th><th scope=col>&lt;dbl&gt;</th></tr>\n",
       "</thead>\n",
       "<tbody>\n",
       "\t<tr><th scope=row>7</th><td>Cre01.g016350</td><td> 1002758843</td></tr>\n",
       "\t<tr><th scope=row>16</th><td>Cre01.g051950</td><td> 1007223914</td></tr>\n",
       "\t<tr><th scope=row>23</th><td>Cre10.g440600</td><td>10002974075</td></tr>\n",
       "\t<tr><th scope=row>24</th><td>Cre10.g440600</td><td>10002974077</td></tr>\n",
       "\t<tr><th scope=row>35</th><td>Cre12.g511750</td><td>12001845232</td></tr>\n",
       "\t<tr><th scope=row>50</th><td>Cre12.g554750</td><td>12007642263</td></tr>\n",
       "</tbody>\n",
       "</table>\n"
      ],
      "text/latex": [
       "A data.frame: 6 × 2\n",
       "\\begin{tabular}{r|ll}\n",
       "  & mutation & mutation\\_position\\\\\n",
       "  & <chr> & <dbl>\\\\\n",
       "\\hline\n",
       "\t7 & Cre01.g016350 &  1002758843\\\\\n",
       "\t16 & Cre01.g051950 &  1007223914\\\\\n",
       "\t23 & Cre10.g440600 & 10002974075\\\\\n",
       "\t24 & Cre10.g440600 & 10002974077\\\\\n",
       "\t35 & Cre12.g511750 & 12001845232\\\\\n",
       "\t50 & Cre12.g554750 & 12007642263\\\\\n",
       "\\end{tabular}\n"
      ],
      "text/markdown": [
       "\n",
       "A data.frame: 6 × 2\n",
       "\n",
       "| <!--/--> | mutation &lt;chr&gt; | mutation_position &lt;dbl&gt; |\n",
       "|---|---|---|\n",
       "| 7 | Cre01.g016350 |  1002758843 |\n",
       "| 16 | Cre01.g051950 |  1007223914 |\n",
       "| 23 | Cre10.g440600 | 10002974075 |\n",
       "| 24 | Cre10.g440600 | 10002974077 |\n",
       "| 35 | Cre12.g511750 | 12001845232 |\n",
       "| 50 | Cre12.g554750 | 12007642263 |\n",
       "\n"
      ],
      "text/plain": [
       "   mutation      mutation_position\n",
       "7  Cre01.g016350  1002758843      \n",
       "16 Cre01.g051950  1007223914      \n",
       "23 Cre10.g440600 10002974075      \n",
       "24 Cre10.g440600 10002974077      \n",
       "35 Cre12.g511750 12001845232      \n",
       "50 Cre12.g554750 12007642263      "
      ]
     },
     "metadata": {},
     "output_type": "display_data"
    },
    {
     "data": {
      "text/html": [
       "23"
      ],
      "text/latex": [
       "23"
      ],
      "text/markdown": [
       "23"
      ],
      "text/plain": [
       "[1] 23"
      ]
     },
     "metadata": {},
     "output_type": "display_data"
    }
   ],
   "source": [
    "mutation_positions <- mutation_data_raw[, c(1:3)]\n",
    "mutation_positions$chromosome <- as.numeric(gsub(\"chromosome_\", '', mutation_positions$chromosome))\n",
    "\n",
    "mutation_positions <- mutation_positions%>%\n",
    "    mutate(position = position + (separator * as.numeric(chromosome)))%>%\n",
    "    select(Gene.primaryIdentifier, position)\n",
    "\n",
    "colnames(mutation_positions) <- c(\"mutation\", \"mutation_position\")\n",
    "head(mutation_positions)\n",
    "num_mutations = dim(mutation_positions)[1]\n",
    "num_mutations "
   ]
  },
  {
   "cell_type": "markdown",
   "metadata": {},
   "source": [
    "## Get the NULL Distribution"
   ]
  },
  {
   "cell_type": "code",
   "execution_count": 7,
   "metadata": {},
   "outputs": [],
   "source": [
    "random_sampling_edges <- function(){\n",
    "    #Randomly pick genes from the gff without replacement\n",
    "    sampled_gene_names = sample(gene_positions$Name, size, replace = FALSE)\n",
    "    sampled_gene_data <- gene_positions[gene_positions$Name %in% sampled_gene_names,]\n",
    "    \n",
    "    #Scale by chromosome\n",
    "    sampled_gene_data <- sampled_gene_data %>%\n",
    "        mutate(Start = Start + (separator * as.numeric(Chromosome))) %>%\n",
    "        mutate(End = End + (separator * as.numeric(Chromosome))) %>%\n",
    "        select(Name, Start, End)%>%\n",
    "        melt(id.vars = \"Name\", variable.name = \"edge\", value.name = \"gene_position\")\n",
    "\n",
    "    names(sampled_gene_data)[names(sampled_gene_data) == 'Name'] <- \"genes\"\n",
    "    \n",
    "    return(sampled_gene_data)\n",
    "}"
   ]
  },
  {
   "cell_type": "code",
   "execution_count": 8,
   "metadata": {},
   "outputs": [],
   "source": [
    "distance_from_mutations <- function(sampled_gene_data){\n",
    "    #Find how far away they are from a given mutation\n",
    "    #Repeat the sampled genes the same amount as the mutations\n",
    "    sampled_gene_data <- sampled_gene_data %>% \n",
    "        slice(rep(1:n(), each = num_mutations)) %>% #repeat the sampled gene lists 23 times (number of mutations)\n",
    "        cbind(mutations_repeated) %>% #bind the two together \n",
    "        mutate(distance = abs(gene_position - mutation_position))\n",
    "    \n",
    "    sampled_gene_data$distance <- ifelse(sampled_gene_data$genes == sampled_gene_data$mutation, \n",
    "                                    yes = 0, no = sampled_gene_data$distance)\n",
    "\n",
    "    min_distance_mutation <- aggregate(distance ~ mutation_position, \n",
    "                                             data = sampled_gene_data, FUN = min)\n",
    "    \n",
    "    return(min_distance_mutation)\n",
    "}"
   ]
  },
  {
   "cell_type": "code",
   "execution_count": 9,
   "metadata": {
    "scrolled": true
   },
   "outputs": [
    {
     "data": {
      "text/html": [
       "<table class=\"dataframe\">\n",
       "<caption>A data.frame: 6 × 1002</caption>\n",
       "<thead>\n",
       "\t<tr><th></th><th scope=col>mutation_position</th><th scope=col>mutation</th><th scope=col>distance</th><th scope=col>distance2</th><th scope=col>distance3</th><th scope=col>distance4</th><th scope=col>distance5</th><th scope=col>distance6</th><th scope=col>distance7</th><th scope=col>distance8</th><th scope=col>⋯</th><th scope=col>distance991</th><th scope=col>distance992</th><th scope=col>distance993</th><th scope=col>distance994</th><th scope=col>distance995</th><th scope=col>distance996</th><th scope=col>distance997</th><th scope=col>distance998</th><th scope=col>distance999</th><th scope=col>distance1000</th></tr>\n",
       "\t<tr><th></th><th scope=col>&lt;dbl&gt;</th><th scope=col>&lt;chr&gt;</th><th scope=col>&lt;dbl&gt;</th><th scope=col>&lt;dbl&gt;</th><th scope=col>&lt;dbl&gt;</th><th scope=col>&lt;dbl&gt;</th><th scope=col>&lt;dbl&gt;</th><th scope=col>&lt;dbl&gt;</th><th scope=col>&lt;dbl&gt;</th><th scope=col>&lt;dbl&gt;</th><th scope=col>⋯</th><th scope=col>&lt;dbl&gt;</th><th scope=col>&lt;dbl&gt;</th><th scope=col>&lt;dbl&gt;</th><th scope=col>&lt;dbl&gt;</th><th scope=col>&lt;dbl&gt;</th><th scope=col>&lt;dbl&gt;</th><th scope=col>&lt;dbl&gt;</th><th scope=col>&lt;dbl&gt;</th><th scope=col>&lt;dbl&gt;</th><th scope=col>&lt;dbl&gt;</th></tr>\n",
       "</thead>\n",
       "<tbody>\n",
       "\t<tr><th scope=row>1</th><td>1002758843</td><td>Cre01.g016350</td><td>22820</td><td>74224</td><td>    0</td><td> 2230</td><td>149884</td><td>43032</td><td> 4549</td><td>105350</td><td>⋯</td><td>34961</td><td>  4549</td><td>72749</td><td>74224</td><td>15394</td><td>  2230</td><td>68728</td><td>30130</td><td> 95761</td><td> 13323</td></tr>\n",
       "\t<tr><th scope=row>2</th><td>1007223914</td><td>Cre01.g051950</td><td> 2122</td><td> 2122</td><td>11744</td><td> 9675</td><td> 31197</td><td>17659</td><td>99299</td><td>111037</td><td>⋯</td><td>    0</td><td>     0</td><td>17659</td><td>17659</td><td>20484</td><td>  9675</td><td> 9675</td><td> 2527</td><td>  6194</td><td>259714</td></tr>\n",
       "\t<tr><th scope=row>3</th><td>2007696095</td><td>             </td><td>16798</td><td>77038</td><td>39978</td><td> 8498</td><td>    30</td><td>14058</td><td>18248</td><td> 13738</td><td>⋯</td><td>21928</td><td> 32895</td><td>27348</td><td>16798</td><td>14058</td><td>157735</td><td> 2068</td><td>  755</td><td>103040</td><td> 13738</td></tr>\n",
       "\t<tr><th scope=row>4</th><td>3005280766</td><td>g3802        </td><td>36993</td><td>60357</td><td> 5683</td><td>92969</td><td> 78113</td><td>    0</td><td>12127</td><td> 84682</td><td>⋯</td><td>  207</td><td> 42626</td><td> 5683</td><td> 8026</td><td> 4677</td><td>  8026</td><td>71901</td><td>39423</td><td> 51638</td><td>   207</td></tr>\n",
       "\t<tr><th scope=row>5</th><td>5001145933</td><td>Cre05.g245700</td><td>  305</td><td> 5370</td><td>30753</td><td>48504</td><td> 41293</td><td>51856</td><td>51856</td><td>   305</td><td>⋯</td><td>98736</td><td>139956</td><td>98736</td><td>11573</td><td>  305</td><td> 51856</td><td>    0</td><td>51856</td><td>118186</td><td>  5370</td></tr>\n",
       "\t<tr><th scope=row>6</th><td>5001145934</td><td>Cre05.g245700</td><td>  304</td><td> 5369</td><td>30752</td><td>48505</td><td> 41294</td><td>51857</td><td>51857</td><td>   304</td><td>⋯</td><td>98737</td><td>139955</td><td>98737</td><td>11572</td><td>  304</td><td> 51857</td><td>    0</td><td>51857</td><td>118187</td><td>  5369</td></tr>\n",
       "</tbody>\n",
       "</table>\n"
      ],
      "text/latex": [
       "A data.frame: 6 × 1002\n",
       "\\begin{tabular}{r|lllllllllllllllllllll}\n",
       "  & mutation\\_position & mutation & distance & distance2 & distance3 & distance4 & distance5 & distance6 & distance7 & distance8 & ⋯ & distance991 & distance992 & distance993 & distance994 & distance995 & distance996 & distance997 & distance998 & distance999 & distance1000\\\\\n",
       "  & <dbl> & <chr> & <dbl> & <dbl> & <dbl> & <dbl> & <dbl> & <dbl> & <dbl> & <dbl> & ⋯ & <dbl> & <dbl> & <dbl> & <dbl> & <dbl> & <dbl> & <dbl> & <dbl> & <dbl> & <dbl>\\\\\n",
       "\\hline\n",
       "\t1 & 1002758843 & Cre01.g016350 & 22820 & 74224 &     0 &  2230 & 149884 & 43032 &  4549 & 105350 & ⋯ & 34961 &   4549 & 72749 & 74224 & 15394 &   2230 & 68728 & 30130 &  95761 &  13323\\\\\n",
       "\t2 & 1007223914 & Cre01.g051950 &  2122 &  2122 & 11744 &  9675 &  31197 & 17659 & 99299 & 111037 & ⋯ &     0 &      0 & 17659 & 17659 & 20484 &   9675 &  9675 &  2527 &   6194 & 259714\\\\\n",
       "\t3 & 2007696095 &               & 16798 & 77038 & 39978 &  8498 &     30 & 14058 & 18248 &  13738 & ⋯ & 21928 &  32895 & 27348 & 16798 & 14058 & 157735 &  2068 &   755 & 103040 &  13738\\\\\n",
       "\t4 & 3005280766 & g3802         & 36993 & 60357 &  5683 & 92969 &  78113 &     0 & 12127 &  84682 & ⋯ &   207 &  42626 &  5683 &  8026 &  4677 &   8026 & 71901 & 39423 &  51638 &    207\\\\\n",
       "\t5 & 5001145933 & Cre05.g245700 &   305 &  5370 & 30753 & 48504 &  41293 & 51856 & 51856 &    305 & ⋯ & 98736 & 139956 & 98736 & 11573 &   305 &  51856 &     0 & 51856 & 118186 &   5370\\\\\n",
       "\t6 & 5001145934 & Cre05.g245700 &   304 &  5369 & 30752 & 48505 &  41294 & 51857 & 51857 &    304 & ⋯ & 98737 & 139955 & 98737 & 11572 &   304 &  51857 &     0 & 51857 & 118187 &   5369\\\\\n",
       "\\end{tabular}\n"
      ],
      "text/markdown": [
       "\n",
       "A data.frame: 6 × 1002\n",
       "\n",
       "| <!--/--> | mutation_position &lt;dbl&gt; | mutation &lt;chr&gt; | distance &lt;dbl&gt; | distance2 &lt;dbl&gt; | distance3 &lt;dbl&gt; | distance4 &lt;dbl&gt; | distance5 &lt;dbl&gt; | distance6 &lt;dbl&gt; | distance7 &lt;dbl&gt; | distance8 &lt;dbl&gt; | ⋯ ⋯ | distance991 &lt;dbl&gt; | distance992 &lt;dbl&gt; | distance993 &lt;dbl&gt; | distance994 &lt;dbl&gt; | distance995 &lt;dbl&gt; | distance996 &lt;dbl&gt; | distance997 &lt;dbl&gt; | distance998 &lt;dbl&gt; | distance999 &lt;dbl&gt; | distance1000 &lt;dbl&gt; |\n",
       "|---|---|---|---|---|---|---|---|---|---|---|---|---|---|---|---|---|---|---|---|---|---|\n",
       "| 1 | 1002758843 | Cre01.g016350 | 22820 | 74224 |     0 |  2230 | 149884 | 43032 |  4549 | 105350 | ⋯ | 34961 |   4549 | 72749 | 74224 | 15394 |   2230 | 68728 | 30130 |  95761 |  13323 |\n",
       "| 2 | 1007223914 | Cre01.g051950 |  2122 |  2122 | 11744 |  9675 |  31197 | 17659 | 99299 | 111037 | ⋯ |     0 |      0 | 17659 | 17659 | 20484 |   9675 |  9675 |  2527 |   6194 | 259714 |\n",
       "| 3 | 2007696095 | <!----> | 16798 | 77038 | 39978 |  8498 |     30 | 14058 | 18248 |  13738 | ⋯ | 21928 |  32895 | 27348 | 16798 | 14058 | 157735 |  2068 |   755 | 103040 |  13738 |\n",
       "| 4 | 3005280766 | g3802         | 36993 | 60357 |  5683 | 92969 |  78113 |     0 | 12127 |  84682 | ⋯ |   207 |  42626 |  5683 |  8026 |  4677 |   8026 | 71901 | 39423 |  51638 |    207 |\n",
       "| 5 | 5001145933 | Cre05.g245700 |   305 |  5370 | 30753 | 48504 |  41293 | 51856 | 51856 |    305 | ⋯ | 98736 | 139956 | 98736 | 11573 |   305 |  51856 |     0 | 51856 | 118186 |   5370 |\n",
       "| 6 | 5001145934 | Cre05.g245700 |   304 |  5369 | 30752 | 48505 |  41294 | 51857 | 51857 |    304 | ⋯ | 98737 | 139955 | 98737 | 11572 |   304 |  51857 |     0 | 51857 | 118187 |   5369 |\n",
       "\n"
      ],
      "text/plain": [
       "  mutation_position mutation      distance distance2 distance3 distance4\n",
       "1 1002758843        Cre01.g016350 22820    74224         0      2230    \n",
       "2 1007223914        Cre01.g051950  2122     2122     11744      9675    \n",
       "3 2007696095                      16798    77038     39978      8498    \n",
       "4 3005280766        g3802         36993    60357      5683     92969    \n",
       "5 5001145933        Cre05.g245700   305     5370     30753     48504    \n",
       "6 5001145934        Cre05.g245700   304     5369     30752     48505    \n",
       "  distance5 distance6 distance7 distance8 ⋯ distance991 distance992 distance993\n",
       "1 149884    43032      4549     105350    ⋯ 34961         4549      72749      \n",
       "2  31197    17659     99299     111037    ⋯     0            0      17659      \n",
       "3     30    14058     18248      13738    ⋯ 21928        32895      27348      \n",
       "4  78113        0     12127      84682    ⋯   207        42626       5683      \n",
       "5  41293    51856     51856        305    ⋯ 98736       139956      98736      \n",
       "6  41294    51857     51857        304    ⋯ 98737       139955      98737      \n",
       "  distance994 distance995 distance996 distance997 distance998 distance999\n",
       "1 74224       15394         2230      68728       30130        95761     \n",
       "2 17659       20484         9675       9675        2527         6194     \n",
       "3 16798       14058       157735       2068         755       103040     \n",
       "4  8026        4677         8026      71901       39423        51638     \n",
       "5 11573         305        51856          0       51856       118186     \n",
       "6 11572         304        51857          0       51857       118187     \n",
       "  distance1000\n",
       "1  13323      \n",
       "2 259714      \n",
       "3  13738      \n",
       "4    207      \n",
       "5   5370      \n",
       "6   5369      "
      ]
     },
     "metadata": {},
     "output_type": "display_data"
    },
    {
     "data": {
      "text/html": [
       "<style>\n",
       ".list-inline {list-style: none; margin:0; padding: 0}\n",
       ".list-inline>li {display: inline-block}\n",
       ".list-inline>li:not(:last-child)::after {content: \"\\00b7\"; padding: 0 .5ex}\n",
       "</style>\n",
       "<ol class=list-inline><li>23</li><li>1002</li></ol>\n"
      ],
      "text/latex": [
       "\\begin{enumerate*}\n",
       "\\item 23\n",
       "\\item 1002\n",
       "\\end{enumerate*}\n"
      ],
      "text/markdown": [
       "1. 23\n",
       "2. 1002\n",
       "\n",
       "\n"
      ],
      "text/plain": [
       "[1]   23 1002"
      ]
     },
     "metadata": {},
     "output_type": "display_data"
    }
   ],
   "source": [
    "#Repeat the mutations the same amount as the genes\n",
    "mutations_repeated <- data.frame(lapply(mutation_positions, rep, size))\n",
    "sample_trials <- mutation_positions #make a dummy data frame with the right dimensions\n",
    "\n",
    "for (i in 1:1000){\n",
    "    min_distance_m <- distance_from_mutations(random_sampling_edges())\n",
    "    \n",
    "    #store each trial for the min distances for each mutation\n",
    "    sample_trials <- merge(sample_trials, min_distance_m, by = \"mutation_position\", suffixes = c(\"\", as.character(i)))\n",
    "}\n",
    "\n",
    "head(sample_trials)\n",
    "dim(sample_trials)"
   ]
  },
  {
   "cell_type": "markdown",
   "metadata": {},
   "source": [
    "## Get the distance of DEGs to mutations"
   ]
  },
  {
   "cell_type": "code",
   "execution_count": 10,
   "metadata": {},
   "outputs": [
    {
     "data": {
      "text/html": [
       "<table class=\"dataframe\">\n",
       "<caption>A data.frame: 6 × 3</caption>\n",
       "<thead>\n",
       "\t<tr><th></th><th scope=col>genes</th><th scope=col>edge</th><th scope=col>gene_position</th></tr>\n",
       "\t<tr><th></th><th scope=col>&lt;chr&gt;</th><th scope=col>&lt;fct&gt;</th><th scope=col>&lt;dbl&gt;</th></tr>\n",
       "</thead>\n",
       "<tbody>\n",
       "\t<tr><th scope=row>1</th><td>g3           </td><td>Start</td><td>1000020356</td></tr>\n",
       "\t<tr><th scope=row>2</th><td>Cre01.g000150</td><td>Start</td><td>1000041896</td></tr>\n",
       "\t<tr><th scope=row>3</th><td>g28          </td><td>Start</td><td>1000166882</td></tr>\n",
       "\t<tr><th scope=row>4</th><td>Cre01.g002650</td><td>Start</td><td>1000456376</td></tr>\n",
       "\t<tr><th scope=row>5</th><td>Cre01.g003000</td><td>Start</td><td>1000533296</td></tr>\n",
       "\t<tr><th scope=row>6</th><td>Cre01.g003200</td><td>Start</td><td>1000559606</td></tr>\n",
       "</tbody>\n",
       "</table>\n"
      ],
      "text/latex": [
       "A data.frame: 6 × 3\n",
       "\\begin{tabular}{r|lll}\n",
       "  & genes & edge & gene\\_position\\\\\n",
       "  & <chr> & <fct> & <dbl>\\\\\n",
       "\\hline\n",
       "\t1 & g3            & Start & 1000020356\\\\\n",
       "\t2 & Cre01.g000150 & Start & 1000041896\\\\\n",
       "\t3 & g28           & Start & 1000166882\\\\\n",
       "\t4 & Cre01.g002650 & Start & 1000456376\\\\\n",
       "\t5 & Cre01.g003000 & Start & 1000533296\\\\\n",
       "\t6 & Cre01.g003200 & Start & 1000559606\\\\\n",
       "\\end{tabular}\n"
      ],
      "text/markdown": [
       "\n",
       "A data.frame: 6 × 3\n",
       "\n",
       "| <!--/--> | genes &lt;chr&gt; | edge &lt;fct&gt; | gene_position &lt;dbl&gt; |\n",
       "|---|---|---|---|\n",
       "| 1 | g3            | Start | 1000020356 |\n",
       "| 2 | Cre01.g000150 | Start | 1000041896 |\n",
       "| 3 | g28           | Start | 1000166882 |\n",
       "| 4 | Cre01.g002650 | Start | 1000456376 |\n",
       "| 5 | Cre01.g003000 | Start | 1000533296 |\n",
       "| 6 | Cre01.g003200 | Start | 1000559606 |\n",
       "\n"
      ],
      "text/plain": [
       "  genes         edge  gene_position\n",
       "1 g3            Start 1000020356   \n",
       "2 Cre01.g000150 Start 1000041896   \n",
       "3 g28           Start 1000166882   \n",
       "4 Cre01.g002650 Start 1000456376   \n",
       "5 Cre01.g003000 Start 1000533296   \n",
       "6 Cre01.g003200 Start 1000559606   "
      ]
     },
     "metadata": {},
     "output_type": "display_data"
    }
   ],
   "source": [
    "head(DEG_positions)"
   ]
  },
  {
   "cell_type": "code",
   "execution_count": 11,
   "metadata": {},
   "outputs": [
    {
     "data": {
      "text/html": [
       "<table class=\"dataframe\">\n",
       "<caption>A data.frame: 6 × 2</caption>\n",
       "<thead>\n",
       "\t<tr><th></th><th scope=col>mutation_position</th><th scope=col>distance</th></tr>\n",
       "\t<tr><th></th><th scope=col>&lt;dbl&gt;</th><th scope=col>&lt;dbl&gt;</th></tr>\n",
       "</thead>\n",
       "<tbody>\n",
       "\t<tr><th scope=row>1</th><td>1002758843</td><td> 30130</td></tr>\n",
       "\t<tr><th scope=row>2</th><td>1007223914</td><td>  4252</td></tr>\n",
       "\t<tr><th scope=row>3</th><td>2007696095</td><td> 13738</td></tr>\n",
       "\t<tr><th scope=row>4</th><td>3005280766</td><td>139971</td></tr>\n",
       "\t<tr><th scope=row>5</th><td>5001145933</td><td>     0</td></tr>\n",
       "\t<tr><th scope=row>6</th><td>5001145934</td><td>     0</td></tr>\n",
       "</tbody>\n",
       "</table>\n"
      ],
      "text/latex": [
       "A data.frame: 6 × 2\n",
       "\\begin{tabular}{r|ll}\n",
       "  & mutation\\_position & distance\\\\\n",
       "  & <dbl> & <dbl>\\\\\n",
       "\\hline\n",
       "\t1 & 1002758843 &  30130\\\\\n",
       "\t2 & 1007223914 &   4252\\\\\n",
       "\t3 & 2007696095 &  13738\\\\\n",
       "\t4 & 3005280766 & 139971\\\\\n",
       "\t5 & 5001145933 &      0\\\\\n",
       "\t6 & 5001145934 &      0\\\\\n",
       "\\end{tabular}\n"
      ],
      "text/markdown": [
       "\n",
       "A data.frame: 6 × 2\n",
       "\n",
       "| <!--/--> | mutation_position &lt;dbl&gt; | distance &lt;dbl&gt; |\n",
       "|---|---|---|\n",
       "| 1 | 1002758843 |  30130 |\n",
       "| 2 | 1007223914 |   4252 |\n",
       "| 3 | 2007696095 |  13738 |\n",
       "| 4 | 3005280766 | 139971 |\n",
       "| 5 | 5001145933 |      0 |\n",
       "| 6 | 5001145934 |      0 |\n",
       "\n"
      ],
      "text/plain": [
       "  mutation_position distance\n",
       "1 1002758843         30130  \n",
       "2 1007223914          4252  \n",
       "3 2007696095         13738  \n",
       "4 3005280766        139971  \n",
       "5 5001145933             0  \n",
       "6 5001145934             0  "
      ]
     },
     "metadata": {},
     "output_type": "display_data"
    }
   ],
   "source": [
    "min_distance_DEGs <- distance_from_mutations(DEG_positions)\n",
    "head(min_distance_DEGs)"
   ]
  },
  {
   "cell_type": "markdown",
   "metadata": {},
   "source": [
    "## Mega Histogram"
   ]
  },
  {
   "cell_type": "code",
   "execution_count": 12,
   "metadata": {},
   "outputs": [
    {
     "data": {
      "text/html": [
       "<table class=\"dataframe\">\n",
       "<caption>A data.frame: 6 × 1002</caption>\n",
       "<thead>\n",
       "\t<tr><th></th><th scope=col>mutation_position</th><th scope=col>mutation</th><th scope=col>distance</th><th scope=col>distance2</th><th scope=col>distance3</th><th scope=col>distance4</th><th scope=col>distance5</th><th scope=col>distance6</th><th scope=col>distance7</th><th scope=col>distance8</th><th scope=col>⋯</th><th scope=col>distance991</th><th scope=col>distance992</th><th scope=col>distance993</th><th scope=col>distance994</th><th scope=col>distance995</th><th scope=col>distance996</th><th scope=col>distance997</th><th scope=col>distance998</th><th scope=col>distance999</th><th scope=col>distance1000</th></tr>\n",
       "\t<tr><th></th><th scope=col>&lt;dbl&gt;</th><th scope=col>&lt;chr&gt;</th><th scope=col>&lt;dbl&gt;</th><th scope=col>&lt;dbl&gt;</th><th scope=col>&lt;dbl&gt;</th><th scope=col>&lt;dbl&gt;</th><th scope=col>&lt;dbl&gt;</th><th scope=col>&lt;dbl&gt;</th><th scope=col>&lt;dbl&gt;</th><th scope=col>&lt;dbl&gt;</th><th scope=col>⋯</th><th scope=col>&lt;dbl&gt;</th><th scope=col>&lt;dbl&gt;</th><th scope=col>&lt;dbl&gt;</th><th scope=col>&lt;dbl&gt;</th><th scope=col>&lt;dbl&gt;</th><th scope=col>&lt;dbl&gt;</th><th scope=col>&lt;dbl&gt;</th><th scope=col>&lt;dbl&gt;</th><th scope=col>&lt;dbl&gt;</th><th scope=col>&lt;dbl&gt;</th></tr>\n",
       "</thead>\n",
       "<tbody>\n",
       "\t<tr><th scope=row>1</th><td>1002758843</td><td>Cre01.g016350</td><td>22820</td><td>74224</td><td>    0</td><td> 2230</td><td>149884</td><td>43032</td><td> 4549</td><td>105350</td><td>⋯</td><td>34961</td><td>  4549</td><td>72749</td><td>74224</td><td>15394</td><td>  2230</td><td>68728</td><td>30130</td><td> 95761</td><td> 13323</td></tr>\n",
       "\t<tr><th scope=row>2</th><td>1007223914</td><td>Cre01.g051950</td><td> 2122</td><td> 2122</td><td>11744</td><td> 9675</td><td> 31197</td><td>17659</td><td>99299</td><td>111037</td><td>⋯</td><td>    0</td><td>     0</td><td>17659</td><td>17659</td><td>20484</td><td>  9675</td><td> 9675</td><td> 2527</td><td>  6194</td><td>259714</td></tr>\n",
       "\t<tr><th scope=row>3</th><td>2007696095</td><td>             </td><td>16798</td><td>77038</td><td>39978</td><td> 8498</td><td>    30</td><td>14058</td><td>18248</td><td> 13738</td><td>⋯</td><td>21928</td><td> 32895</td><td>27348</td><td>16798</td><td>14058</td><td>157735</td><td> 2068</td><td>  755</td><td>103040</td><td> 13738</td></tr>\n",
       "\t<tr><th scope=row>4</th><td>3005280766</td><td>g3802        </td><td>36993</td><td>60357</td><td> 5683</td><td>92969</td><td> 78113</td><td>    0</td><td>12127</td><td> 84682</td><td>⋯</td><td>  207</td><td> 42626</td><td> 5683</td><td> 8026</td><td> 4677</td><td>  8026</td><td>71901</td><td>39423</td><td> 51638</td><td>   207</td></tr>\n",
       "\t<tr><th scope=row>5</th><td>5001145933</td><td>Cre05.g245700</td><td>  305</td><td> 5370</td><td>30753</td><td>48504</td><td> 41293</td><td>51856</td><td>51856</td><td>   305</td><td>⋯</td><td>98736</td><td>139956</td><td>98736</td><td>11573</td><td>  305</td><td> 51856</td><td>    0</td><td>51856</td><td>118186</td><td>  5370</td></tr>\n",
       "\t<tr><th scope=row>6</th><td>5001145934</td><td>Cre05.g245700</td><td>  304</td><td> 5369</td><td>30752</td><td>48505</td><td> 41294</td><td>51857</td><td>51857</td><td>   304</td><td>⋯</td><td>98737</td><td>139955</td><td>98737</td><td>11572</td><td>  304</td><td> 51857</td><td>    0</td><td>51857</td><td>118187</td><td>  5369</td></tr>\n",
       "</tbody>\n",
       "</table>\n"
      ],
      "text/latex": [
       "A data.frame: 6 × 1002\n",
       "\\begin{tabular}{r|lllllllllllllllllllll}\n",
       "  & mutation\\_position & mutation & distance & distance2 & distance3 & distance4 & distance5 & distance6 & distance7 & distance8 & ⋯ & distance991 & distance992 & distance993 & distance994 & distance995 & distance996 & distance997 & distance998 & distance999 & distance1000\\\\\n",
       "  & <dbl> & <chr> & <dbl> & <dbl> & <dbl> & <dbl> & <dbl> & <dbl> & <dbl> & <dbl> & ⋯ & <dbl> & <dbl> & <dbl> & <dbl> & <dbl> & <dbl> & <dbl> & <dbl> & <dbl> & <dbl>\\\\\n",
       "\\hline\n",
       "\t1 & 1002758843 & Cre01.g016350 & 22820 & 74224 &     0 &  2230 & 149884 & 43032 &  4549 & 105350 & ⋯ & 34961 &   4549 & 72749 & 74224 & 15394 &   2230 & 68728 & 30130 &  95761 &  13323\\\\\n",
       "\t2 & 1007223914 & Cre01.g051950 &  2122 &  2122 & 11744 &  9675 &  31197 & 17659 & 99299 & 111037 & ⋯ &     0 &      0 & 17659 & 17659 & 20484 &   9675 &  9675 &  2527 &   6194 & 259714\\\\\n",
       "\t3 & 2007696095 &               & 16798 & 77038 & 39978 &  8498 &     30 & 14058 & 18248 &  13738 & ⋯ & 21928 &  32895 & 27348 & 16798 & 14058 & 157735 &  2068 &   755 & 103040 &  13738\\\\\n",
       "\t4 & 3005280766 & g3802         & 36993 & 60357 &  5683 & 92969 &  78113 &     0 & 12127 &  84682 & ⋯ &   207 &  42626 &  5683 &  8026 &  4677 &   8026 & 71901 & 39423 &  51638 &    207\\\\\n",
       "\t5 & 5001145933 & Cre05.g245700 &   305 &  5370 & 30753 & 48504 &  41293 & 51856 & 51856 &    305 & ⋯ & 98736 & 139956 & 98736 & 11573 &   305 &  51856 &     0 & 51856 & 118186 &   5370\\\\\n",
       "\t6 & 5001145934 & Cre05.g245700 &   304 &  5369 & 30752 & 48505 &  41294 & 51857 & 51857 &    304 & ⋯ & 98737 & 139955 & 98737 & 11572 &   304 &  51857 &     0 & 51857 & 118187 &   5369\\\\\n",
       "\\end{tabular}\n"
      ],
      "text/markdown": [
       "\n",
       "A data.frame: 6 × 1002\n",
       "\n",
       "| <!--/--> | mutation_position &lt;dbl&gt; | mutation &lt;chr&gt; | distance &lt;dbl&gt; | distance2 &lt;dbl&gt; | distance3 &lt;dbl&gt; | distance4 &lt;dbl&gt; | distance5 &lt;dbl&gt; | distance6 &lt;dbl&gt; | distance7 &lt;dbl&gt; | distance8 &lt;dbl&gt; | ⋯ ⋯ | distance991 &lt;dbl&gt; | distance992 &lt;dbl&gt; | distance993 &lt;dbl&gt; | distance994 &lt;dbl&gt; | distance995 &lt;dbl&gt; | distance996 &lt;dbl&gt; | distance997 &lt;dbl&gt; | distance998 &lt;dbl&gt; | distance999 &lt;dbl&gt; | distance1000 &lt;dbl&gt; |\n",
       "|---|---|---|---|---|---|---|---|---|---|---|---|---|---|---|---|---|---|---|---|---|---|\n",
       "| 1 | 1002758843 | Cre01.g016350 | 22820 | 74224 |     0 |  2230 | 149884 | 43032 |  4549 | 105350 | ⋯ | 34961 |   4549 | 72749 | 74224 | 15394 |   2230 | 68728 | 30130 |  95761 |  13323 |\n",
       "| 2 | 1007223914 | Cre01.g051950 |  2122 |  2122 | 11744 |  9675 |  31197 | 17659 | 99299 | 111037 | ⋯ |     0 |      0 | 17659 | 17659 | 20484 |   9675 |  9675 |  2527 |   6194 | 259714 |\n",
       "| 3 | 2007696095 | <!----> | 16798 | 77038 | 39978 |  8498 |     30 | 14058 | 18248 |  13738 | ⋯ | 21928 |  32895 | 27348 | 16798 | 14058 | 157735 |  2068 |   755 | 103040 |  13738 |\n",
       "| 4 | 3005280766 | g3802         | 36993 | 60357 |  5683 | 92969 |  78113 |     0 | 12127 |  84682 | ⋯ |   207 |  42626 |  5683 |  8026 |  4677 |   8026 | 71901 | 39423 |  51638 |    207 |\n",
       "| 5 | 5001145933 | Cre05.g245700 |   305 |  5370 | 30753 | 48504 |  41293 | 51856 | 51856 |    305 | ⋯ | 98736 | 139956 | 98736 | 11573 |   305 |  51856 |     0 | 51856 | 118186 |   5370 |\n",
       "| 6 | 5001145934 | Cre05.g245700 |   304 |  5369 | 30752 | 48505 |  41294 | 51857 | 51857 |    304 | ⋯ | 98737 | 139955 | 98737 | 11572 |   304 |  51857 |     0 | 51857 | 118187 |   5369 |\n",
       "\n"
      ],
      "text/plain": [
       "  mutation_position mutation      distance distance2 distance3 distance4\n",
       "1 1002758843        Cre01.g016350 22820    74224         0      2230    \n",
       "2 1007223914        Cre01.g051950  2122     2122     11744      9675    \n",
       "3 2007696095                      16798    77038     39978      8498    \n",
       "4 3005280766        g3802         36993    60357      5683     92969    \n",
       "5 5001145933        Cre05.g245700   305     5370     30753     48504    \n",
       "6 5001145934        Cre05.g245700   304     5369     30752     48505    \n",
       "  distance5 distance6 distance7 distance8 ⋯ distance991 distance992 distance993\n",
       "1 149884    43032      4549     105350    ⋯ 34961         4549      72749      \n",
       "2  31197    17659     99299     111037    ⋯     0            0      17659      \n",
       "3     30    14058     18248      13738    ⋯ 21928        32895      27348      \n",
       "4  78113        0     12127      84682    ⋯   207        42626       5683      \n",
       "5  41293    51856     51856        305    ⋯ 98736       139956      98736      \n",
       "6  41294    51857     51857        304    ⋯ 98737       139955      98737      \n",
       "  distance994 distance995 distance996 distance997 distance998 distance999\n",
       "1 74224       15394         2230      68728       30130        95761     \n",
       "2 17659       20484         9675       9675        2527         6194     \n",
       "3 16798       14058       157735       2068         755       103040     \n",
       "4  8026        4677         8026      71901       39423        51638     \n",
       "5 11573         305        51856          0       51856       118186     \n",
       "6 11572         304        51857          0       51857       118187     \n",
       "  distance1000\n",
       "1  13323      \n",
       "2 259714      \n",
       "3  13738      \n",
       "4    207      \n",
       "5   5370      \n",
       "6   5369      "
      ]
     },
     "metadata": {},
     "output_type": "display_data"
    },
    {
     "data": {
      "text/html": [
       "<style>\n",
       ".list-inline {list-style: none; margin:0; padding: 0}\n",
       ".list-inline>li {display: inline-block}\n",
       ".list-inline>li:not(:last-child)::after {content: \"\\00b7\"; padding: 0 .5ex}\n",
       "</style>\n",
       "<ol class=list-inline><li>23</li><li>1002</li></ol>\n"
      ],
      "text/latex": [
       "\\begin{enumerate*}\n",
       "\\item 23\n",
       "\\item 1002\n",
       "\\end{enumerate*}\n"
      ],
      "text/markdown": [
       "1. 23\n",
       "2. 1002\n",
       "\n",
       "\n"
      ],
      "text/plain": [
       "[1]   23 1002"
      ]
     },
     "metadata": {},
     "output_type": "display_data"
    }
   ],
   "source": [
    "head(sample_trials)\n",
    "dim(sample_trials)"
   ]
  },
  {
   "cell_type": "code",
   "execution_count": 13,
   "metadata": {
    "scrolled": true
   },
   "outputs": [
    {
     "data": {
      "text/html": [
       "<style>\n",
       ".list-inline {list-style: none; margin:0; padding: 0}\n",
       ".list-inline>li {display: inline-block}\n",
       ".list-inline>li:not(:last-child)::after {content: \"\\00b7\"; padding: 0 .5ex}\n",
       "</style>\n",
       "<ol class=list-inline><li>1000</li><li>7</li></ol>\n"
      ],
      "text/latex": [
       "\\begin{enumerate*}\n",
       "\\item 1000\n",
       "\\item 7\n",
       "\\end{enumerate*}\n"
      ],
      "text/markdown": [
       "1. 1000\n",
       "2. 7\n",
       "\n",
       "\n"
      ],
      "text/plain": [
       "[1] 1000    7"
      ]
     },
     "metadata": {},
     "output_type": "display_data"
    },
    {
     "data": {
      "text/html": [
       "<table class=\"dataframe\">\n",
       "<caption>A matrix: 6 × 7 of type int</caption>\n",
       "<thead>\n",
       "\t<tr><th></th><th scope=col>(-1,10]</th><th scope=col>(10,100]</th><th scope=col>(100,1e+03]</th><th scope=col>(1e+03,1e+04]</th><th scope=col>(1e+04,1e+05]</th><th scope=col>(1e+05,1e+06]</th><th scope=col>(1e+06,1e+07]</th></tr>\n",
       "</thead>\n",
       "<tbody>\n",
       "\t<tr><th scope=row>count_data</th><td>2</td><td>1</td><td>3</td><td>8</td><td> 9</td><td>0</td><td>0</td></tr>\n",
       "\t<tr><th scope=row>count_data</th><td>1</td><td>2</td><td>0</td><td>8</td><td> 9</td><td>3</td><td>0</td></tr>\n",
       "\t<tr><th scope=row>count_data</th><td>1</td><td>1</td><td>1</td><td>8</td><td>11</td><td>1</td><td>0</td></tr>\n",
       "\t<tr><th scope=row>count_data</th><td>3</td><td>0</td><td>0</td><td>8</td><td>11</td><td>1</td><td>0</td></tr>\n",
       "\t<tr><th scope=row>count_data</th><td>1</td><td>1</td><td>1</td><td>3</td><td>15</td><td>2</td><td>0</td></tr>\n",
       "\t<tr><th scope=row>count_data</th><td>1</td><td>0</td><td>1</td><td>3</td><td>17</td><td>1</td><td>0</td></tr>\n",
       "</tbody>\n",
       "</table>\n"
      ],
      "text/latex": [
       "A matrix: 6 × 7 of type int\n",
       "\\begin{tabular}{r|lllllll}\n",
       "  & (-1,10{]} & (10,100{]} & (100,1e+03{]} & (1e+03,1e+04{]} & (1e+04,1e+05{]} & (1e+05,1e+06{]} & (1e+06,1e+07{]}\\\\\n",
       "\\hline\n",
       "\tcount\\_data & 2 & 1 & 3 & 8 &  9 & 0 & 0\\\\\n",
       "\tcount\\_data & 1 & 2 & 0 & 8 &  9 & 3 & 0\\\\\n",
       "\tcount\\_data & 1 & 1 & 1 & 8 & 11 & 1 & 0\\\\\n",
       "\tcount\\_data & 3 & 0 & 0 & 8 & 11 & 1 & 0\\\\\n",
       "\tcount\\_data & 1 & 1 & 1 & 3 & 15 & 2 & 0\\\\\n",
       "\tcount\\_data & 1 & 0 & 1 & 3 & 17 & 1 & 0\\\\\n",
       "\\end{tabular}\n"
      ],
      "text/markdown": [
       "\n",
       "A matrix: 6 × 7 of type int\n",
       "\n",
       "| <!--/--> | (-1,10] | (10,100] | (100,1e+03] | (1e+03,1e+04] | (1e+04,1e+05] | (1e+05,1e+06] | (1e+06,1e+07] |\n",
       "|---|---|---|---|---|---|---|---|\n",
       "| count_data | 2 | 1 | 3 | 8 |  9 | 0 | 0 |\n",
       "| count_data | 1 | 2 | 0 | 8 |  9 | 3 | 0 |\n",
       "| count_data | 1 | 1 | 1 | 8 | 11 | 1 | 0 |\n",
       "| count_data | 3 | 0 | 0 | 8 | 11 | 1 | 0 |\n",
       "| count_data | 1 | 1 | 1 | 3 | 15 | 2 | 0 |\n",
       "| count_data | 1 | 0 | 1 | 3 | 17 | 1 | 0 |\n",
       "\n"
      ],
      "text/plain": [
       "           (-1,10] (10,100] (100,1e+03] (1e+03,1e+04] (1e+04,1e+05]\n",
       "count_data 2       1        3           8              9           \n",
       "count_data 1       2        0           8              9           \n",
       "count_data 1       1        1           8             11           \n",
       "count_data 3       0        0           8             11           \n",
       "count_data 1       1        1           3             15           \n",
       "count_data 1       0        1           3             17           \n",
       "           (1e+05,1e+06] (1e+06,1e+07]\n",
       "count_data 0             0            \n",
       "count_data 3             0            \n",
       "count_data 1             0            \n",
       "count_data 1             0            \n",
       "count_data 2             0            \n",
       "count_data 1             0            "
      ]
     },
     "metadata": {},
     "output_type": "display_data"
    }
   ],
   "source": [
    "breaks_seq <- c(-1, 10, 100, 1000, 10000, 100000, 1000000, 10000000)\n",
    "interval_data <- c()\n",
    "for (col in 3:ncol(sample_trials)){\n",
    "    count_data <- table(cut(sample_trials[,col], breaks = breaks_seq))\n",
    "    interval_data <- rbind(interval_data, count_data)\n",
    "}\n",
    "dim(interval_data)\n",
    "head(interval_data)"
   ]
  },
  {
   "cell_type": "code",
   "execution_count": 14,
   "metadata": {},
   "outputs": [
    {
     "data": {
      "image/png": "[encoded data removed]",
      "text/plain": [
       "plot without title"
      ]
     },
     "metadata": {
      "image/png": {
       "height": 480,
       "width": 960
      }
     },
     "output_type": "display_data"
    }
   ],
   "source": [
    "#calculate the average number of genes in each bin\n",
    "null_bin_means <- data.frame(colMeans(interval_data))\n",
    "colnames(null_bin_means) <- c(\"Average\")\n",
    "barplot(height = null_bin_means$Average, names = rownames(null_bin_means), las = 2)"
   ]
  },
  {
   "cell_type": "code",
   "execution_count": 15,
   "metadata": {},
   "outputs": [
    {
     "data": {
      "text/html": [
       "<table class=\"dataframe\">\n",
       "<caption>A data.frame: 7 × 3</caption>\n",
       "<thead>\n",
       "\t<tr><th></th><th scope=col>Average</th><th scope=col>DEGs</th><th scope=col>Intervals</th></tr>\n",
       "\t<tr><th></th><th scope=col>&lt;dbl&gt;</th><th scope=col>&lt;int&gt;</th><th scope=col>&lt;chr&gt;</th></tr>\n",
       "</thead>\n",
       "<tbody>\n",
       "\t<tr><th scope=row>(-1,10]</th><td> 1.604</td><td> 5</td><td>(-1,10]      </td></tr>\n",
       "\t<tr><th scope=row>(10,100]</th><td> 0.281</td><td> 0</td><td>(10,100]     </td></tr>\n",
       "\t<tr><th scope=row>(100,1e+03]</th><td> 1.607</td><td> 0</td><td>(100,1e+03]  </td></tr>\n",
       "\t<tr><th scope=row>(1e+03,1e+04]</th><td> 4.894</td><td> 3</td><td>(1e+03,1e+04]</td></tr>\n",
       "\t<tr><th scope=row>(1e+04,1e+05]</th><td>13.245</td><td>12</td><td>(1e+04,1e+05]</td></tr>\n",
       "\t<tr><th scope=row>(1e+05,1e+06]</th><td> 1.369</td><td> 3</td><td>(1e+05,1e+06]</td></tr>\n",
       "\t<tr><th scope=row>(1e+06,1e+07]</th><td> 0.000</td><td> 0</td><td>(1e+06,1e+07]</td></tr>\n",
       "</tbody>\n",
       "</table>\n"
      ],
      "text/latex": [
       "A data.frame: 7 × 3\n",
       "\\begin{tabular}{r|lll}\n",
       "  & Average & DEGs & Intervals\\\\\n",
       "  & <dbl> & <int> & <chr>\\\\\n",
       "\\hline\n",
       "\t(-1,10{]} &  1.604 &  5 & (-1,10{]}      \\\\\n",
       "\t(10,100{]} &  0.281 &  0 & (10,100{]}     \\\\\n",
       "\t(100,1e+03{]} &  1.607 &  0 & (100,1e+03{]}  \\\\\n",
       "\t(1e+03,1e+04{]} &  4.894 &  3 & (1e+03,1e+04{]}\\\\\n",
       "\t(1e+04,1e+05{]} & 13.245 & 12 & (1e+04,1e+05{]}\\\\\n",
       "\t(1e+05,1e+06{]} &  1.369 &  3 & (1e+05,1e+06{]}\\\\\n",
       "\t(1e+06,1e+07{]} &  0.000 &  0 & (1e+06,1e+07{]}\\\\\n",
       "\\end{tabular}\n"
      ],
      "text/markdown": [
       "\n",
       "A data.frame: 7 × 3\n",
       "\n",
       "| <!--/--> | Average &lt;dbl&gt; | DEGs &lt;int&gt; | Intervals &lt;chr&gt; |\n",
       "|---|---|---|---|\n",
       "| (-1,10] |  1.604 |  5 | (-1,10]       |\n",
       "| (10,100] |  0.281 |  0 | (10,100]      |\n",
       "| (100,1e+03] |  1.607 |  0 | (100,1e+03]   |\n",
       "| (1e+03,1e+04] |  4.894 |  3 | (1e+03,1e+04] |\n",
       "| (1e+04,1e+05] | 13.245 | 12 | (1e+04,1e+05] |\n",
       "| (1e+05,1e+06] |  1.369 |  3 | (1e+05,1e+06] |\n",
       "| (1e+06,1e+07] |  0.000 |  0 | (1e+06,1e+07] |\n",
       "\n"
      ],
      "text/plain": [
       "              Average DEGs Intervals    \n",
       "(-1,10]        1.604   5   (-1,10]      \n",
       "(10,100]       0.281   0   (10,100]     \n",
       "(100,1e+03]    1.607   0   (100,1e+03]  \n",
       "(1e+03,1e+04]  4.894   3   (1e+03,1e+04]\n",
       "(1e+04,1e+05] 13.245  12   (1e+04,1e+05]\n",
       "(1e+05,1e+06]  1.369   3   (1e+05,1e+06]\n",
       "(1e+06,1e+07]  0.000   0   (1e+06,1e+07]"
      ]
     },
     "metadata": {},
     "output_type": "display_data"
    }
   ],
   "source": [
    "DEGs_binned <- table(cut(min_distance_DEGs$distance, breaks = breaks_seq))\n",
    "binned_data_all_edges <- cbind(null_bin_means, DEGs = data.frame(DEGs_binned)$Freq)\n",
    "binned_data_all_edges$Intervals <- rownames(binned_data_all_edges)\n",
    "binned_data_all_edges"
   ]
  },
  {
   "cell_type": "code",
   "execution_count": 16,
   "metadata": {},
   "outputs": [
    {
     "data": {
      "text/html": [
       "<table class=\"dataframe\">\n",
       "<caption>A data.frame: 6 × 4</caption>\n",
       "<thead>\n",
       "\t<tr><th></th><th scope=col>Average</th><th scope=col>DEGs</th><th scope=col>Intervals</th><th scope=col>Proportion</th></tr>\n",
       "\t<tr><th></th><th scope=col>&lt;dbl&gt;</th><th scope=col>&lt;int&gt;</th><th scope=col>&lt;chr&gt;</th><th scope=col>&lt;dbl&gt;</th></tr>\n",
       "</thead>\n",
       "<tbody>\n",
       "\t<tr><th scope=row>(-1,10]</th><td> 1.604</td><td> 5</td><td>(-1,10]      </td><td>0.06973913</td></tr>\n",
       "\t<tr><th scope=row>(10,100]</th><td> 0.281</td><td> 0</td><td>(10,100]     </td><td>0.01221739</td></tr>\n",
       "\t<tr><th scope=row>(100,1e+03]</th><td> 1.607</td><td> 0</td><td>(100,1e+03]  </td><td>0.06986957</td></tr>\n",
       "\t<tr><th scope=row>(1e+03,1e+04]</th><td> 4.894</td><td> 3</td><td>(1e+03,1e+04]</td><td>0.21278261</td></tr>\n",
       "\t<tr><th scope=row>(1e+04,1e+05]</th><td>13.245</td><td>12</td><td>(1e+04,1e+05]</td><td>0.57586957</td></tr>\n",
       "\t<tr><th scope=row>(1e+05,1e+06]</th><td> 1.369</td><td> 3</td><td>(1e+05,1e+06]</td><td>0.05952174</td></tr>\n",
       "</tbody>\n",
       "</table>\n"
      ],
      "text/latex": [
       "A data.frame: 6 × 4\n",
       "\\begin{tabular}{r|llll}\n",
       "  & Average & DEGs & Intervals & Proportion\\\\\n",
       "  & <dbl> & <int> & <chr> & <dbl>\\\\\n",
       "\\hline\n",
       "\t(-1,10{]} &  1.604 &  5 & (-1,10{]}       & 0.06973913\\\\\n",
       "\t(10,100{]} &  0.281 &  0 & (10,100{]}      & 0.01221739\\\\\n",
       "\t(100,1e+03{]} &  1.607 &  0 & (100,1e+03{]}   & 0.06986957\\\\\n",
       "\t(1e+03,1e+04{]} &  4.894 &  3 & (1e+03,1e+04{]} & 0.21278261\\\\\n",
       "\t(1e+04,1e+05{]} & 13.245 & 12 & (1e+04,1e+05{]} & 0.57586957\\\\\n",
       "\t(1e+05,1e+06{]} &  1.369 &  3 & (1e+05,1e+06{]} & 0.05952174\\\\\n",
       "\\end{tabular}\n"
      ],
      "text/markdown": [
       "\n",
       "A data.frame: 6 × 4\n",
       "\n",
       "| <!--/--> | Average &lt;dbl&gt; | DEGs &lt;int&gt; | Intervals &lt;chr&gt; | Proportion &lt;dbl&gt; |\n",
       "|---|---|---|---|---|\n",
       "| (-1,10] |  1.604 |  5 | (-1,10]       | 0.06973913 |\n",
       "| (10,100] |  0.281 |  0 | (10,100]      | 0.01221739 |\n",
       "| (100,1e+03] |  1.607 |  0 | (100,1e+03]   | 0.06986957 |\n",
       "| (1e+03,1e+04] |  4.894 |  3 | (1e+03,1e+04] | 0.21278261 |\n",
       "| (1e+04,1e+05] | 13.245 | 12 | (1e+04,1e+05] | 0.57586957 |\n",
       "| (1e+05,1e+06] |  1.369 |  3 | (1e+05,1e+06] | 0.05952174 |\n",
       "\n"
      ],
      "text/plain": [
       "              Average DEGs Intervals     Proportion\n",
       "(-1,10]        1.604   5   (-1,10]       0.06973913\n",
       "(10,100]       0.281   0   (10,100]      0.01221739\n",
       "(100,1e+03]    1.607   0   (100,1e+03]   0.06986957\n",
       "(1e+03,1e+04]  4.894   3   (1e+03,1e+04] 0.21278261\n",
       "(1e+04,1e+05] 13.245  12   (1e+04,1e+05] 0.57586957\n",
       "(1e+05,1e+06]  1.369   3   (1e+05,1e+06] 0.05952174"
      ]
     },
     "metadata": {},
     "output_type": "display_data"
    },
    {
     "name": "stdout",
     "output_type": "stream",
     "text": [
      "\n",
      "\tChi-squared test for given probabilities with simulated p-value (based\n",
      "\ton 2000 replicates)\n",
      "\n",
      "data:  binned_data_all_edges_chi2$DEGs\n",
      "X-squared = 11.871, df = NA, p-value = 0.05847\n",
      "\n"
     ]
    },
    {
     "data": {
      "text/html": [
       "<style>\n",
       ".list-inline {list-style: none; margin:0; padding: 0}\n",
       ".list-inline>li {display: inline-block}\n",
       ".list-inline>li:not(:last-child)::after {content: \"\\00b7\"; padding: 0 .5ex}\n",
       "</style>\n",
       "<ol class=list-inline><li>1.604</li><li>0.281</li><li>1.607</li><li>4.894</li><li>13.245</li><li>1.369</li></ol>\n"
      ],
      "text/latex": [
       "\\begin{enumerate*}\n",
       "\\item 1.604\n",
       "\\item 0.281\n",
       "\\item 1.607\n",
       "\\item 4.894\n",
       "\\item 13.245\n",
       "\\item 1.369\n",
       "\\end{enumerate*}\n"
      ],
      "text/markdown": [
       "1. 1.604\n",
       "2. 0.281\n",
       "3. 1.607\n",
       "4. 4.894\n",
       "5. 13.245\n",
       "6. 1.369\n",
       "\n",
       "\n"
      ],
      "text/plain": [
       "[1]  1.604  0.281  1.607  4.894 13.245  1.369"
      ]
     },
     "metadata": {},
     "output_type": "display_data"
    }
   ],
   "source": [
    "binned_data_all_edges_chi2 <- binned_data_all_edges[-nrow(binned_data_all_edges),]\n",
    "binned_data_all_edges_chi2$Proportion <- binned_data_all_edges_chi2$Average/sum(binned_data_all_edges_chi2$Average)\n",
    "binned_data_all_edges_chi2\n",
    "\n",
    "test <- chisq.test(binned_data_all_edges_chi2$DEGs, p = binned_data_all_edges_chi2$Proportion, simulate.p.value = T)\n",
    "print(test)\n",
    "test$expected"
   ]
  },
  {
   "cell_type": "code",
   "execution_count": 17,
   "metadata": {},
   "outputs": [
    {
     "data": {
      "text/html": [
       "<table class=\"dataframe\">\n",
       "<caption>A data.frame: 6 × 4</caption>\n",
       "<thead>\n",
       "\t<tr><th></th><th scope=col>Average</th><th scope=col>DEGs</th><th scope=col>Intervals</th><th scope=col>Proportion</th></tr>\n",
       "\t<tr><th></th><th scope=col>&lt;dbl&gt;</th><th scope=col>&lt;int&gt;</th><th scope=col>&lt;chr&gt;</th><th scope=col>&lt;dbl&gt;</th></tr>\n",
       "</thead>\n",
       "<tbody>\n",
       "\t<tr><th scope=row>(-1,10]</th><td> 1.604</td><td> 5</td><td>(-1,10]      </td><td>0.06973913</td></tr>\n",
       "\t<tr><th scope=row>(10,100]</th><td> 0.281</td><td> 0</td><td>(10,100]     </td><td>0.01221739</td></tr>\n",
       "\t<tr><th scope=row>(100,1e+03]</th><td> 1.607</td><td> 0</td><td>(100,1e+03]  </td><td>0.06986957</td></tr>\n",
       "\t<tr><th scope=row>(1e+03,1e+04]</th><td> 4.894</td><td> 3</td><td>(1e+03,1e+04]</td><td>0.21278261</td></tr>\n",
       "\t<tr><th scope=row>(1e+04,1e+05]</th><td>13.245</td><td>12</td><td>(1e+04,1e+05]</td><td>0.57586957</td></tr>\n",
       "\t<tr><th scope=row>(1e+05,1e+06]</th><td> 1.369</td><td> 3</td><td>(1e+05,1e+06]</td><td>0.05952174</td></tr>\n",
       "</tbody>\n",
       "</table>\n"
      ],
      "text/latex": [
       "A data.frame: 6 × 4\n",
       "\\begin{tabular}{r|llll}\n",
       "  & Average & DEGs & Intervals & Proportion\\\\\n",
       "  & <dbl> & <int> & <chr> & <dbl>\\\\\n",
       "\\hline\n",
       "\t(-1,10{]} &  1.604 &  5 & (-1,10{]}       & 0.06973913\\\\\n",
       "\t(10,100{]} &  0.281 &  0 & (10,100{]}      & 0.01221739\\\\\n",
       "\t(100,1e+03{]} &  1.607 &  0 & (100,1e+03{]}   & 0.06986957\\\\\n",
       "\t(1e+03,1e+04{]} &  4.894 &  3 & (1e+03,1e+04{]} & 0.21278261\\\\\n",
       "\t(1e+04,1e+05{]} & 13.245 & 12 & (1e+04,1e+05{]} & 0.57586957\\\\\n",
       "\t(1e+05,1e+06{]} &  1.369 &  3 & (1e+05,1e+06{]} & 0.05952174\\\\\n",
       "\\end{tabular}\n"
      ],
      "text/markdown": [
       "\n",
       "A data.frame: 6 × 4\n",
       "\n",
       "| <!--/--> | Average &lt;dbl&gt; | DEGs &lt;int&gt; | Intervals &lt;chr&gt; | Proportion &lt;dbl&gt; |\n",
       "|---|---|---|---|---|\n",
       "| (-1,10] |  1.604 |  5 | (-1,10]       | 0.06973913 |\n",
       "| (10,100] |  0.281 |  0 | (10,100]      | 0.01221739 |\n",
       "| (100,1e+03] |  1.607 |  0 | (100,1e+03]   | 0.06986957 |\n",
       "| (1e+03,1e+04] |  4.894 |  3 | (1e+03,1e+04] | 0.21278261 |\n",
       "| (1e+04,1e+05] | 13.245 | 12 | (1e+04,1e+05] | 0.57586957 |\n",
       "| (1e+05,1e+06] |  1.369 |  3 | (1e+05,1e+06] | 0.05952174 |\n",
       "\n"
      ],
      "text/plain": [
       "              Average DEGs Intervals     Proportion\n",
       "(-1,10]        1.604   5   (-1,10]       0.06973913\n",
       "(10,100]       0.281   0   (10,100]      0.01221739\n",
       "(100,1e+03]    1.607   0   (100,1e+03]   0.06986957\n",
       "(1e+03,1e+04]  4.894   3   (1e+03,1e+04] 0.21278261\n",
       "(1e+04,1e+05] 13.245  12   (1e+04,1e+05] 0.57586957\n",
       "(1e+05,1e+06]  1.369   3   (1e+05,1e+06] 0.05952174"
      ]
     },
     "metadata": {},
     "output_type": "display_data"
    },
    {
     "name": "stderr",
     "output_type": "stream",
     "text": [
      "Warning message in fisher.test(binned_data_all_edges_chi2[, c(\"Average\", \"DEGs\")]):\n",
      "“'x' has been rounded to integer: Mean relative difference: 0.07782609”\n"
     ]
    },
    {
     "data": {
      "text/plain": [
       "\n",
       "\tFisher's Exact Test for Count Data\n",
       "\n",
       "data:  binned_data_all_edges_chi2[, c(\"Average\", \"DEGs\")]\n",
       "p-value = 0.3654\n",
       "alternative hypothesis: two.sided\n"
      ]
     },
     "metadata": {},
     "output_type": "display_data"
    }
   ],
   "source": [
    "binned_data_all_edges_chi2\n",
    "test <- fisher.test(binned_data_all_edges_chi2[,c(\"Average\", \"DEGs\")])\n",
    "test"
   ]
  },
  {
   "cell_type": "code",
   "execution_count": 18,
   "metadata": {},
   "outputs": [
    {
     "data": {
      "text/html": [
       "<style>\n",
       ".list-inline {list-style: none; margin:0; padding: 0}\n",
       ".list-inline>li {display: inline-block}\n",
       ".list-inline>li:not(:last-child)::after {content: \"\\00b7\"; padding: 0 .5ex}\n",
       "</style>\n",
       "<ol class=list-inline><li>14</li><li>3</li></ol>\n"
      ],
      "text/latex": [
       "\\begin{enumerate*}\n",
       "\\item 14\n",
       "\\item 3\n",
       "\\end{enumerate*}\n"
      ],
      "text/markdown": [
       "1. 14\n",
       "2. 3\n",
       "\n",
       "\n"
      ],
      "text/plain": [
       "[1] 14  3"
      ]
     },
     "metadata": {},
     "output_type": "display_data"
    },
    {
     "data": {
      "text/html": [
       "<table class=\"dataframe\">\n",
       "<caption>A data.frame: 6 × 3</caption>\n",
       "<thead>\n",
       "\t<tr><th></th><th scope=col>Intervals</th><th scope=col>variable</th><th scope=col>value</th></tr>\n",
       "\t<tr><th></th><th scope=col>&lt;chr&gt;</th><th scope=col>&lt;chr&gt;</th><th scope=col>&lt;dbl&gt;</th></tr>\n",
       "</thead>\n",
       "<tbody>\n",
       "\t<tr><th scope=row>1</th><td>(-1,10]      </td><td>Expected</td><td> 1.604</td></tr>\n",
       "\t<tr><th scope=row>2</th><td>(10,100]     </td><td>Expected</td><td> 0.281</td></tr>\n",
       "\t<tr><th scope=row>3</th><td>(100,1e+03]  </td><td>Expected</td><td> 1.607</td></tr>\n",
       "\t<tr><th scope=row>4</th><td>(1e+03,1e+04]</td><td>Expected</td><td> 4.894</td></tr>\n",
       "\t<tr><th scope=row>5</th><td>(1e+04,1e+05]</td><td>Expected</td><td>13.245</td></tr>\n",
       "\t<tr><th scope=row>6</th><td>(1e+05,1e+06]</td><td>Expected</td><td> 1.369</td></tr>\n",
       "</tbody>\n",
       "</table>\n"
      ],
      "text/latex": [
       "A data.frame: 6 × 3\n",
       "\\begin{tabular}{r|lll}\n",
       "  & Intervals & variable & value\\\\\n",
       "  & <chr> & <chr> & <dbl>\\\\\n",
       "\\hline\n",
       "\t1 & (-1,10{]}       & Expected &  1.604\\\\\n",
       "\t2 & (10,100{]}      & Expected &  0.281\\\\\n",
       "\t3 & (100,1e+03{]}   & Expected &  1.607\\\\\n",
       "\t4 & (1e+03,1e+04{]} & Expected &  4.894\\\\\n",
       "\t5 & (1e+04,1e+05{]} & Expected & 13.245\\\\\n",
       "\t6 & (1e+05,1e+06{]} & Expected &  1.369\\\\\n",
       "\\end{tabular}\n"
      ],
      "text/markdown": [
       "\n",
       "A data.frame: 6 × 3\n",
       "\n",
       "| <!--/--> | Intervals &lt;chr&gt; | variable &lt;chr&gt; | value &lt;dbl&gt; |\n",
       "|---|---|---|---|\n",
       "| 1 | (-1,10]       | Expected |  1.604 |\n",
       "| 2 | (10,100]      | Expected |  0.281 |\n",
       "| 3 | (100,1e+03]   | Expected |  1.607 |\n",
       "| 4 | (1e+03,1e+04] | Expected |  4.894 |\n",
       "| 5 | (1e+04,1e+05] | Expected | 13.245 |\n",
       "| 6 | (1e+05,1e+06] | Expected |  1.369 |\n",
       "\n"
      ],
      "text/plain": [
       "  Intervals     variable value \n",
       "1 (-1,10]       Expected  1.604\n",
       "2 (10,100]      Expected  0.281\n",
       "3 (100,1e+03]   Expected  1.607\n",
       "4 (1e+03,1e+04] Expected  4.894\n",
       "5 (1e+04,1e+05] Expected 13.245\n",
       "6 (1e+05,1e+06] Expected  1.369"
      ]
     },
     "metadata": {},
     "output_type": "display_data"
    },
    {
     "data": {
      "text/html": [
       "<style>\n",
       ".list-inline {list-style: none; margin:0; padding: 0}\n",
       ".list-inline>li {display: inline-block}\n",
       ".list-inline>li:not(:last-child)::after {content: \"\\00b7\"; padding: 0 .5ex}\n",
       "</style>\n",
       "<ol class=list-inline><li>'Expected'</li><li>'DEGs'</li></ol>\n"
      ],
      "text/latex": [
       "\\begin{enumerate*}\n",
       "\\item 'Expected'\n",
       "\\item 'DEGs'\n",
       "\\end{enumerate*}\n"
      ],
      "text/markdown": [
       "1. 'Expected'\n",
       "2. 'DEGs'\n",
       "\n",
       "\n"
      ],
      "text/plain": [
       "[1] \"Expected\" \"DEGs\"    "
      ]
     },
     "metadata": {},
     "output_type": "display_data"
    }
   ],
   "source": [
    "data_edges <- melt(binned_data_all_edges, id.vars = \"Intervals\")\n",
    "data_edges$variable <- ifelse(data_edges$variable == \"Average\", yes = \"Expected\", no = \"DEGs\")\n",
    "dim(data_edges)\n",
    "head(data_edges)\n",
    "unique(data_edges$variable)"
   ]
  },
  {
   "cell_type": "code",
   "execution_count": 19,
   "metadata": {},
   "outputs": [
    {
     "data": {
      "image/png": "[encoded data removed]",
      "text/plain": [
       "plot without title"
      ]
     },
     "metadata": {
      "image/png": {
       "height": 480,
       "width": 960
      }
     },
     "output_type": "display_data"
    }
   ],
   "source": [
    "#jpeg(file=\"Distance_From_DEG.jpeg\")\n",
    "ggplot(data_edges[data_edges$Intervals != \"(1e+06,1e+07]\",], aes(x=as.factor(Intervals), y=value, fill = variable))+\n",
    "    geom_bar(stat=\"identity\", position=position_dodge())+ \n",
    "    geom_text(vjust = 0, position = position_dodge(0.9), aes(label = round(value, 2)))+\n",
    "    theme_classic(base_size = 20)+\n",
    "    scale_fill_manual(values = wes_palette(\"Darjeeling1\", n = 5)[c(4,5)], name= NULL) + \n",
    "    xlab(\"Distance from DEG\") +\n",
    "    ylab(\"Number of Mutations\") +\n",
    "    scale_x_discrete(labels=c(\"(-1,10]\" = expression(\"10\"^0), \"(10,100]\" = expression(\"10\"^1),\n",
    "                              \"(100,1e+03]\" = expression(\"10\"^2), \"(1e+03,1e+04]\" = expression(\"10\"^3), \"(1e+04,1e+05]\" = expression(\"10\"^4), \n",
    "                             \"(1e+05,1e+06]\" = expression(\"10\"^5))) +\n",
    "    theme(legend.position=\"bottom\")\n",
    "#dev.off()"
   ]
  },
  {
   "cell_type": "markdown",
   "metadata": {},
   "source": [
    "## Testing Significance of Mutations in DEGs"
   ]
  },
  {
   "cell_type": "code",
   "execution_count": 20,
   "metadata": {},
   "outputs": [
    {
     "data": {
      "text/html": [
       "<table class=\"dataframe\">\n",
       "<caption>A data.frame: 6 × 1000</caption>\n",
       "<thead>\n",
       "\t<tr><th></th><th scope=col>distance</th><th scope=col>distance2</th><th scope=col>distance3</th><th scope=col>distance4</th><th scope=col>distance5</th><th scope=col>distance6</th><th scope=col>distance7</th><th scope=col>distance8</th><th scope=col>distance9</th><th scope=col>distance10</th><th scope=col>⋯</th><th scope=col>distance991</th><th scope=col>distance992</th><th scope=col>distance993</th><th scope=col>distance994</th><th scope=col>distance995</th><th scope=col>distance996</th><th scope=col>distance997</th><th scope=col>distance998</th><th scope=col>distance999</th><th scope=col>distance1000</th></tr>\n",
       "\t<tr><th></th><th scope=col>&lt;dbl&gt;</th><th scope=col>&lt;dbl&gt;</th><th scope=col>&lt;dbl&gt;</th><th scope=col>&lt;dbl&gt;</th><th scope=col>&lt;dbl&gt;</th><th scope=col>&lt;dbl&gt;</th><th scope=col>&lt;dbl&gt;</th><th scope=col>&lt;dbl&gt;</th><th scope=col>&lt;dbl&gt;</th><th scope=col>&lt;dbl&gt;</th><th scope=col>⋯</th><th scope=col>&lt;dbl&gt;</th><th scope=col>&lt;dbl&gt;</th><th scope=col>&lt;dbl&gt;</th><th scope=col>&lt;dbl&gt;</th><th scope=col>&lt;dbl&gt;</th><th scope=col>&lt;dbl&gt;</th><th scope=col>&lt;dbl&gt;</th><th scope=col>&lt;dbl&gt;</th><th scope=col>&lt;dbl&gt;</th><th scope=col>&lt;dbl&gt;</th></tr>\n",
       "</thead>\n",
       "<tbody>\n",
       "\t<tr><th scope=row>1002758843</th><td>22820</td><td>74224</td><td>    0</td><td> 2230</td><td>149884</td><td>43032</td><td> 4549</td><td>105350</td><td>22820</td><td>37404</td><td>⋯</td><td>34961</td><td>  4549</td><td>72749</td><td>74224</td><td>15394</td><td>  2230</td><td>68728</td><td>30130</td><td> 95761</td><td> 13323</td></tr>\n",
       "\t<tr><th scope=row>1007223914</th><td> 2122</td><td> 2122</td><td>11744</td><td> 9675</td><td> 31197</td><td>17659</td><td>99299</td><td>111037</td><td>25684</td><td> 2527</td><td>⋯</td><td>    0</td><td>     0</td><td>17659</td><td>17659</td><td>20484</td><td>  9675</td><td> 9675</td><td> 2527</td><td>  6194</td><td>259714</td></tr>\n",
       "\t<tr><th scope=row>2007696095</th><td>16798</td><td>77038</td><td>39978</td><td> 8498</td><td>    30</td><td>14058</td><td>18248</td><td> 13738</td><td>   30</td><td>45752</td><td>⋯</td><td>21928</td><td> 32895</td><td>27348</td><td>16798</td><td>14058</td><td>157735</td><td> 2068</td><td>  755</td><td>103040</td><td> 13738</td></tr>\n",
       "\t<tr><th scope=row>3005280766</th><td>36993</td><td>60357</td><td> 5683</td><td>92969</td><td> 78113</td><td>    0</td><td>12127</td><td> 84682</td><td> 4677</td><td>29810</td><td>⋯</td><td>  207</td><td> 42626</td><td> 5683</td><td> 8026</td><td> 4677</td><td>  8026</td><td>71901</td><td>39423</td><td> 51638</td><td>   207</td></tr>\n",
       "\t<tr><th scope=row>5001145933</th><td>  305</td><td> 5370</td><td>30753</td><td>48504</td><td> 41293</td><td>51856</td><td>51856</td><td>   305</td><td>    0</td><td>51856</td><td>⋯</td><td>98736</td><td>139956</td><td>98736</td><td>11573</td><td>  305</td><td> 51856</td><td>    0</td><td>51856</td><td>118186</td><td>  5370</td></tr>\n",
       "\t<tr><th scope=row>5001145934</th><td>  304</td><td> 5369</td><td>30752</td><td>48505</td><td> 41294</td><td>51857</td><td>51857</td><td>   304</td><td>    0</td><td>51857</td><td>⋯</td><td>98737</td><td>139955</td><td>98737</td><td>11572</td><td>  304</td><td> 51857</td><td>    0</td><td>51857</td><td>118187</td><td>  5369</td></tr>\n",
       "</tbody>\n",
       "</table>\n"
      ],
      "text/latex": [
       "A data.frame: 6 × 1000\n",
       "\\begin{tabular}{r|lllllllllllllllllllll}\n",
       "  & distance & distance2 & distance3 & distance4 & distance5 & distance6 & distance7 & distance8 & distance9 & distance10 & ⋯ & distance991 & distance992 & distance993 & distance994 & distance995 & distance996 & distance997 & distance998 & distance999 & distance1000\\\\\n",
       "  & <dbl> & <dbl> & <dbl> & <dbl> & <dbl> & <dbl> & <dbl> & <dbl> & <dbl> & <dbl> & ⋯ & <dbl> & <dbl> & <dbl> & <dbl> & <dbl> & <dbl> & <dbl> & <dbl> & <dbl> & <dbl>\\\\\n",
       "\\hline\n",
       "\t1002758843 & 22820 & 74224 &     0 &  2230 & 149884 & 43032 &  4549 & 105350 & 22820 & 37404 & ⋯ & 34961 &   4549 & 72749 & 74224 & 15394 &   2230 & 68728 & 30130 &  95761 &  13323\\\\\n",
       "\t1007223914 &  2122 &  2122 & 11744 &  9675 &  31197 & 17659 & 99299 & 111037 & 25684 &  2527 & ⋯ &     0 &      0 & 17659 & 17659 & 20484 &   9675 &  9675 &  2527 &   6194 & 259714\\\\\n",
       "\t2007696095 & 16798 & 77038 & 39978 &  8498 &     30 & 14058 & 18248 &  13738 &    30 & 45752 & ⋯ & 21928 &  32895 & 27348 & 16798 & 14058 & 157735 &  2068 &   755 & 103040 &  13738\\\\\n",
       "\t3005280766 & 36993 & 60357 &  5683 & 92969 &  78113 &     0 & 12127 &  84682 &  4677 & 29810 & ⋯ &   207 &  42626 &  5683 &  8026 &  4677 &   8026 & 71901 & 39423 &  51638 &    207\\\\\n",
       "\t5001145933 &   305 &  5370 & 30753 & 48504 &  41293 & 51856 & 51856 &    305 &     0 & 51856 & ⋯ & 98736 & 139956 & 98736 & 11573 &   305 &  51856 &     0 & 51856 & 118186 &   5370\\\\\n",
       "\t5001145934 &   304 &  5369 & 30752 & 48505 &  41294 & 51857 & 51857 &    304 &     0 & 51857 & ⋯ & 98737 & 139955 & 98737 & 11572 &   304 &  51857 &     0 & 51857 & 118187 &   5369\\\\\n",
       "\\end{tabular}\n"
      ],
      "text/markdown": [
       "\n",
       "A data.frame: 6 × 1000\n",
       "\n",
       "| <!--/--> | distance &lt;dbl&gt; | distance2 &lt;dbl&gt; | distance3 &lt;dbl&gt; | distance4 &lt;dbl&gt; | distance5 &lt;dbl&gt; | distance6 &lt;dbl&gt; | distance7 &lt;dbl&gt; | distance8 &lt;dbl&gt; | distance9 &lt;dbl&gt; | distance10 &lt;dbl&gt; | ⋯ ⋯ | distance991 &lt;dbl&gt; | distance992 &lt;dbl&gt; | distance993 &lt;dbl&gt; | distance994 &lt;dbl&gt; | distance995 &lt;dbl&gt; | distance996 &lt;dbl&gt; | distance997 &lt;dbl&gt; | distance998 &lt;dbl&gt; | distance999 &lt;dbl&gt; | distance1000 &lt;dbl&gt; |\n",
       "|---|---|---|---|---|---|---|---|---|---|---|---|---|---|---|---|---|---|---|---|---|---|\n",
       "| 1002758843 | 22820 | 74224 |     0 |  2230 | 149884 | 43032 |  4549 | 105350 | 22820 | 37404 | ⋯ | 34961 |   4549 | 72749 | 74224 | 15394 |   2230 | 68728 | 30130 |  95761 |  13323 |\n",
       "| 1007223914 |  2122 |  2122 | 11744 |  9675 |  31197 | 17659 | 99299 | 111037 | 25684 |  2527 | ⋯ |     0 |      0 | 17659 | 17659 | 20484 |   9675 |  9675 |  2527 |   6194 | 259714 |\n",
       "| 2007696095 | 16798 | 77038 | 39978 |  8498 |     30 | 14058 | 18248 |  13738 |    30 | 45752 | ⋯ | 21928 |  32895 | 27348 | 16798 | 14058 | 157735 |  2068 |   755 | 103040 |  13738 |\n",
       "| 3005280766 | 36993 | 60357 |  5683 | 92969 |  78113 |     0 | 12127 |  84682 |  4677 | 29810 | ⋯ |   207 |  42626 |  5683 |  8026 |  4677 |   8026 | 71901 | 39423 |  51638 |    207 |\n",
       "| 5001145933 |   305 |  5370 | 30753 | 48504 |  41293 | 51856 | 51856 |    305 |     0 | 51856 | ⋯ | 98736 | 139956 | 98736 | 11573 |   305 |  51856 |     0 | 51856 | 118186 |   5370 |\n",
       "| 5001145934 |   304 |  5369 | 30752 | 48505 |  41294 | 51857 | 51857 |    304 |     0 | 51857 | ⋯ | 98737 | 139955 | 98737 | 11572 |   304 |  51857 |     0 | 51857 | 118187 |   5369 |\n",
       "\n"
      ],
      "text/plain": [
       "           distance distance2 distance3 distance4 distance5 distance6 distance7\n",
       "1002758843 22820    74224         0      2230     149884    43032      4549    \n",
       "1007223914  2122     2122     11744      9675      31197    17659     99299    \n",
       "2007696095 16798    77038     39978      8498         30    14058     18248    \n",
       "3005280766 36993    60357      5683     92969      78113        0     12127    \n",
       "5001145933   305     5370     30753     48504      41293    51856     51856    \n",
       "5001145934   304     5369     30752     48505      41294    51857     51857    \n",
       "           distance8 distance9 distance10 ⋯ distance991 distance992 distance993\n",
       "1002758843 105350    22820     37404      ⋯ 34961         4549      72749      \n",
       "1007223914 111037    25684      2527      ⋯     0            0      17659      \n",
       "2007696095  13738       30     45752      ⋯ 21928        32895      27348      \n",
       "3005280766  84682     4677     29810      ⋯   207        42626       5683      \n",
       "5001145933    305        0     51856      ⋯ 98736       139956      98736      \n",
       "5001145934    304        0     51857      ⋯ 98737       139955      98737      \n",
       "           distance994 distance995 distance996 distance997 distance998\n",
       "1002758843 74224       15394         2230      68728       30130      \n",
       "1007223914 17659       20484         9675       9675        2527      \n",
       "2007696095 16798       14058       157735       2068         755      \n",
       "3005280766  8026        4677         8026      71901       39423      \n",
       "5001145933 11573         305        51856          0       51856      \n",
       "5001145934 11572         304        51857          0       51857      \n",
       "           distance999 distance1000\n",
       "1002758843  95761       13323      \n",
       "1007223914   6194      259714      \n",
       "2007696095 103040       13738      \n",
       "3005280766  51638         207      \n",
       "5001145933 118186        5370      \n",
       "5001145934 118187        5369      "
      ]
     },
     "metadata": {},
     "output_type": "display_data"
    }
   ],
   "source": [
    "rownames(sample_trials) <- sample_trials$mutation_position\n",
    "sample_trials_cropped <- sample_trials[-c(1,2)]\n",
    "head(sample_trials_cropped)"
   ]
  },
  {
   "cell_type": "code",
   "execution_count": 21,
   "metadata": {},
   "outputs": [
    {
     "data": {
      "text/html": [
       "<table class=\"dataframe\">\n",
       "<caption>A data.frame: 6 × 1</caption>\n",
       "<thead>\n",
       "\t<tr><th></th><th scope=col>in_genes</th></tr>\n",
       "\t<tr><th></th><th scope=col>&lt;dbl&gt;</th></tr>\n",
       "</thead>\n",
       "<tbody>\n",
       "\t<tr><th scope=row>distance</th><td>2</td></tr>\n",
       "\t<tr><th scope=row>distance2</th><td>1</td></tr>\n",
       "\t<tr><th scope=row>distance3</th><td>1</td></tr>\n",
       "\t<tr><th scope=row>distance4</th><td>3</td></tr>\n",
       "\t<tr><th scope=row>distance5</th><td>1</td></tr>\n",
       "\t<tr><th scope=row>distance6</th><td>1</td></tr>\n",
       "</tbody>\n",
       "</table>\n"
      ],
      "text/latex": [
       "A data.frame: 6 × 1\n",
       "\\begin{tabular}{r|l}\n",
       "  & in\\_genes\\\\\n",
       "  & <dbl>\\\\\n",
       "\\hline\n",
       "\tdistance & 2\\\\\n",
       "\tdistance2 & 1\\\\\n",
       "\tdistance3 & 1\\\\\n",
       "\tdistance4 & 3\\\\\n",
       "\tdistance5 & 1\\\\\n",
       "\tdistance6 & 1\\\\\n",
       "\\end{tabular}\n"
      ],
      "text/markdown": [
       "\n",
       "A data.frame: 6 × 1\n",
       "\n",
       "| <!--/--> | in_genes &lt;dbl&gt; |\n",
       "|---|---|\n",
       "| distance | 2 |\n",
       "| distance2 | 1 |\n",
       "| distance3 | 1 |\n",
       "| distance4 | 3 |\n",
       "| distance5 | 1 |\n",
       "| distance6 | 1 |\n",
       "\n"
      ],
      "text/plain": [
       "          in_genes\n",
       "distance  2       \n",
       "distance2 1       \n",
       "distance3 1       \n",
       "distance4 3       \n",
       "distance5 1       \n",
       "distance6 1       "
      ]
     },
     "metadata": {},
     "output_type": "display_data"
    },
    {
     "data": {
      "text/html": [
       "<table class=\"dataframe\">\n",
       "<caption>A data.frame: 6 × 2</caption>\n",
       "<thead>\n",
       "\t<tr><th></th><th scope=col>mutation_position</th><th scope=col>distance</th></tr>\n",
       "\t<tr><th></th><th scope=col>&lt;dbl&gt;</th><th scope=col>&lt;dbl&gt;</th></tr>\n",
       "</thead>\n",
       "<tbody>\n",
       "\t<tr><th scope=row>1</th><td>1002758843</td><td> 30130</td></tr>\n",
       "\t<tr><th scope=row>2</th><td>1007223914</td><td>  4252</td></tr>\n",
       "\t<tr><th scope=row>3</th><td>2007696095</td><td> 13738</td></tr>\n",
       "\t<tr><th scope=row>4</th><td>3005280766</td><td>139971</td></tr>\n",
       "\t<tr><th scope=row>5</th><td>5001145933</td><td>     0</td></tr>\n",
       "\t<tr><th scope=row>6</th><td>5001145934</td><td>     0</td></tr>\n",
       "</tbody>\n",
       "</table>\n"
      ],
      "text/latex": [
       "A data.frame: 6 × 2\n",
       "\\begin{tabular}{r|ll}\n",
       "  & mutation\\_position & distance\\\\\n",
       "  & <dbl> & <dbl>\\\\\n",
       "\\hline\n",
       "\t1 & 1002758843 &  30130\\\\\n",
       "\t2 & 1007223914 &   4252\\\\\n",
       "\t3 & 2007696095 &  13738\\\\\n",
       "\t4 & 3005280766 & 139971\\\\\n",
       "\t5 & 5001145933 &      0\\\\\n",
       "\t6 & 5001145934 &      0\\\\\n",
       "\\end{tabular}\n"
      ],
      "text/markdown": [
       "\n",
       "A data.frame: 6 × 2\n",
       "\n",
       "| <!--/--> | mutation_position &lt;dbl&gt; | distance &lt;dbl&gt; |\n",
       "|---|---|---|\n",
       "| 1 | 1002758843 |  30130 |\n",
       "| 2 | 1007223914 |   4252 |\n",
       "| 3 | 2007696095 |  13738 |\n",
       "| 4 | 3005280766 | 139971 |\n",
       "| 5 | 5001145933 |      0 |\n",
       "| 6 | 5001145934 |      0 |\n",
       "\n"
      ],
      "text/plain": [
       "  mutation_position distance\n",
       "1 1002758843         30130  \n",
       "2 1007223914          4252  \n",
       "3 2007696095         13738  \n",
       "4 3005280766        139971  \n",
       "5 5001145933             0  \n",
       "6 5001145934             0  "
      ]
     },
     "metadata": {},
     "output_type": "display_data"
    },
    {
     "data": {
      "text/html": [
       "<table class=\"dataframe\">\n",
       "<caption>A data.frame: 1 × 1</caption>\n",
       "<thead>\n",
       "\t<tr><th></th><th scope=col>in_genes</th></tr>\n",
       "\t<tr><th></th><th scope=col>&lt;dbl&gt;</th></tr>\n",
       "</thead>\n",
       "<tbody>\n",
       "\t<tr><th scope=row>distance</th><td>5</td></tr>\n",
       "</tbody>\n",
       "</table>\n"
      ],
      "text/latex": [
       "A data.frame: 1 × 1\n",
       "\\begin{tabular}{r|l}\n",
       "  & in\\_genes\\\\\n",
       "  & <dbl>\\\\\n",
       "\\hline\n",
       "\tdistance & 5\\\\\n",
       "\\end{tabular}\n"
      ],
      "text/markdown": [
       "\n",
       "A data.frame: 1 × 1\n",
       "\n",
       "| <!--/--> | in_genes &lt;dbl&gt; |\n",
       "|---|---|\n",
       "| distance | 5 |\n",
       "\n"
      ],
      "text/plain": [
       "         in_genes\n",
       "distance 5       "
      ]
     },
     "metadata": {},
     "output_type": "display_data"
    }
   ],
   "source": [
    "#Null\n",
    "number_0s <- data.frame(in_genes = colSums(sample_trials_cropped == 0))\n",
    "head(number_0s)\n",
    "head(min_distance_DEGs)\n",
    "number_0s_DEGS <- data.frame(in_genes = colSums(min_distance_DEGs[-1] == 0))\n",
    "number_0s_DEGS"
   ]
  },
  {
   "cell_type": "code",
   "execution_count": 22,
   "metadata": {},
   "outputs": [
    {
     "name": "stderr",
     "output_type": "stream",
     "text": [
      "`stat_bin()` using `bins = 30`. Pick better value with `binwidth`.\n",
      "\n"
     ]
    },
    {
     "data": {
      "image/png": "[encoded data removed]",
      "text/plain": [
       "plot without title"
      ]
     },
     "metadata": {
      "image/png": {
       "height": 480,
       "width": 960
      }
     },
     "output_type": "display_data"
    }
   ],
   "source": [
    "ggplot(data = number_0s, aes(x = in_genes))+\n",
    "    geom_histogram()+\n",
    "    geom_vline(xintercept = number_0s_DEGS$in_genes) + \n",
    "    scale_x_continuous(breaks = 0:40)"
   ]
  },
  {
   "cell_type": "code",
   "execution_count": 23,
   "metadata": {},
   "outputs": [
    {
     "data": {
      "text/html": [
       "0.021"
      ],
      "text/latex": [
       "0.021"
      ],
      "text/markdown": [
       "0.021"
      ],
      "text/plain": [
       "[1] 0.021"
      ]
     },
     "metadata": {},
     "output_type": "display_data"
    }
   ],
   "source": [
    "length(number_0s[number_0s$in_genes > number_0s_DEGS$in_genes,])/1000\n",
    "# dim(number_0s[number_0s$in_genes<35,])"
   ]
  },
  {
   "cell_type": "code",
   "execution_count": 24,
   "metadata": {},
   "outputs": [],
   "source": [
    "beep()"
   ]
  },
  {
   "cell_type": "code",
   "execution_count": null,
   "metadata": {},
   "outputs": [],
   "source": []
  }
 ],
 "metadata": {
  "kernelspec": {
   "display_name": "R",
   "language": "R",
   "name": "ir"
  },
  "language_info": {
   "codemirror_mode": "r",
   "file_extension": ".r",
   "mimetype": "text/x-r-source",
   "name": "R",
   "pygments_lexer": "r",
   "version": "4.0.3"
  },
  "toc": {
   "base_numbering": 1,
   "nav_menu": {},
   "number_sections": true,
   "sideBar": true,
   "skip_h1_title": false,
   "title_cell": "Table of Contents",
   "title_sidebar": "Contents",
   "toc_cell": false,
   "toc_position": {},
   "toc_section_display": true,
   "toc_window_display": true
  }
 },
 "nbformat": 4,
 "nbformat_minor": 5
}
